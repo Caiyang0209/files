{
 "cells": [
  {
   "cell_type": "markdown",
   "metadata": {},
   "source": [
    "# Week Four "
   ]
  },
  {
   "cell_type": "markdown",
   "metadata": {},
   "source": [
    "## Exploratory Data Analysis (EDA)"
   ]
  },
  {
   "cell_type": "code",
   "execution_count": 1,
   "metadata": {},
   "outputs": [
    {
     "name": "stdout",
     "output_type": "stream",
     "text": [
      "/Users/josezenteno/Intro_to_Python/Code - Weekly Sessions\n"
     ]
    }
   ],
   "source": [
    "%cd '/Users/josezenteno/Intro_to_Python/Code - Weekly Sessions'"
   ]
  },
  {
   "cell_type": "code",
   "execution_count": 2,
   "metadata": {},
   "outputs": [],
   "source": [
    "#importing the pandas and numpy libraries as pd\n",
    "import numpy as np\n",
    "import pandas as pd"
   ]
  },
  {
   "cell_type": "markdown",
   "metadata": {},
   "source": [
    "### This dataset contains house sale prices for King County, which includes Seattle. It includes homes sold between May 2014 and May 2015.It's a great dataset for evaluating simple regression models."
   ]
  },
  {
   "cell_type": "code",
   "execution_count": 3,
   "metadata": {},
   "outputs": [
    {
     "name": "stdout",
     "output_type": "stream",
     "text": [
      "                       date     price  bedrooms  bathrooms  sqft_living  \\\n",
      "id                                                                        \n",
      "7129300520  20141013T000000  221900.0         3       1.00         1180   \n",
      "6414100192  20141209T000000  538000.0         3       2.25         2570   \n",
      "\n",
      "            sqft_lot  floors  waterfront  view  condition  ...  sqft_above  \\\n",
      "id                                                         ...               \n",
      "7129300520      5650     1.0           0     0          3  ...        1180   \n",
      "6414100192      7242     2.0           0     0          3  ...        2170   \n",
      "\n",
      "            sqft_basement  yr_built  yr_renovated  zipcode      lat     long  \\\n",
      "id                                                                             \n",
      "7129300520              0      1955             0    98178  47.5112 -122.257   \n",
      "6414100192            400      1951          1991    98125  47.7210 -122.319   \n",
      "\n",
      "            sqft_living15  sqft_lot15          id  \n",
      "id                                                 \n",
      "7129300520           1340        5650  7129300520  \n",
      "6414100192           1690        7639  6414100192  \n",
      "\n",
      "[2 rows x 21 columns]\n",
      "<class 'pandas.core.frame.DataFrame'>\n",
      "Int64Index: 21613 entries, 7129300520 to 1523300157\n",
      "Data columns (total 21 columns):\n",
      "date             21613 non-null object\n",
      "price            21613 non-null float64\n",
      "bedrooms         21613 non-null int64\n",
      "bathrooms        21613 non-null float64\n",
      "sqft_living      21613 non-null int64\n",
      "sqft_lot         21613 non-null int64\n",
      "floors           21613 non-null float64\n",
      "waterfront       21613 non-null int64\n",
      "view             21613 non-null int64\n",
      "condition        21613 non-null int64\n",
      "grade            21613 non-null int64\n",
      "sqft_above       21613 non-null int64\n",
      "sqft_basement    21613 non-null int64\n",
      "yr_built         21613 non-null int64\n",
      "yr_renovated     21613 non-null int64\n",
      "zipcode          21613 non-null int64\n",
      "lat              21613 non-null float64\n",
      "long             21613 non-null float64\n",
      "sqft_living15    21613 non-null int64\n",
      "sqft_lot15       21613 non-null int64\n",
      "id               21613 non-null int64\n",
      "dtypes: float64(5), int64(15), object(1)\n",
      "memory usage: 3.6+ MB\n",
      "None\n"
     ]
    }
   ],
   "source": [
    "# Using the pandas read_csv function to import the data file we will analyze this week\n",
    "# https://www.kaggle.com/harlfoxem/housesalesprediction\n",
    "df=pd.read_csv('kc_house_data.csv',parse_dates=True, index_col='id')\n",
    "df['id']=df.index\n",
    "print(df.head(2))\n",
    "print(df.info())"
   ]
  },
  {
   "cell_type": "markdown",
   "metadata": {},
   "source": [
    "### Checking to see if the DataFrame has any null values"
   ]
  },
  {
   "cell_type": "code",
   "execution_count": 4,
   "metadata": {},
   "outputs": [
    {
     "data": {
      "text/plain": [
       "date             0\n",
       "price            0\n",
       "bedrooms         0\n",
       "bathrooms        0\n",
       "sqft_living      0\n",
       "sqft_lot         0\n",
       "floors           0\n",
       "waterfront       0\n",
       "view             0\n",
       "condition        0\n",
       "grade            0\n",
       "sqft_above       0\n",
       "sqft_basement    0\n",
       "yr_built         0\n",
       "yr_renovated     0\n",
       "zipcode          0\n",
       "lat              0\n",
       "long             0\n",
       "sqft_living15    0\n",
       "sqft_lot15       0\n",
       "id               0\n",
       "dtype: int64"
      ]
     },
     "execution_count": 4,
     "metadata": {},
     "output_type": "execute_result"
    }
   ],
   "source": [
    "df.isnull().sum()"
   ]
  },
  {
   "cell_type": "markdown",
   "metadata": {},
   "source": [
    "### Drop any columns as needed"
   ]
  },
  {
   "cell_type": "code",
   "execution_count": 5,
   "metadata": {},
   "outputs": [
    {
     "data": {
      "text/plain": [
       "Index(['date', 'price', 'bedrooms', 'bathrooms', 'sqft_living', 'sqft_lot',\n",
       "       'floors', 'waterfront', 'view', 'condition', 'grade', 'sqft_above',\n",
       "       'sqft_basement', 'yr_built', 'yr_renovated', 'zipcode', 'sqft_living15',\n",
       "       'sqft_lot15', 'id'],\n",
       "      dtype='object')"
      ]
     },
     "execution_count": 5,
     "metadata": {},
     "output_type": "execute_result"
    }
   ],
   "source": [
    "df=df.drop(['lat','long'], axis=1)\n",
    "df.columns"
   ]
  },
  {
   "cell_type": "markdown",
   "metadata": {},
   "source": [
    "### Drop any rows as needed"
   ]
  },
  {
   "cell_type": "code",
   "execution_count": 6,
   "metadata": {},
   "outputs": [],
   "source": [
    "df.drop(df[df['floors']>2].index,inplace=True)"
   ]
  },
  {
   "cell_type": "code",
   "execution_count": 7,
   "metadata": {},
   "outputs": [
    {
     "name": "stdout",
     "output_type": "stream",
     "text": [
      "1.0    10680\n",
      "2.0     8241\n",
      "1.5     1910\n",
      "Name: floors, dtype: int64\n"
     ]
    }
   ],
   "source": [
    "print(df['floors'].value_counts())"
   ]
  },
  {
   "cell_type": "code",
   "execution_count": 8,
   "metadata": {},
   "outputs": [],
   "source": [
    "df.drop(df[df['bedrooms']>5].index,inplace=True)"
   ]
  },
  {
   "cell_type": "code",
   "execution_count": 9,
   "metadata": {},
   "outputs": [
    {
     "name": "stdout",
     "output_type": "stream",
     "text": [
      "3    9359\n",
      "4    6763\n",
      "2    2630\n",
      "5    1565\n",
      "1     195\n",
      "0      10\n",
      "Name: bedrooms, dtype: int64\n"
     ]
    }
   ],
   "source": [
    "print(df['bedrooms'].value_counts())"
   ]
  },
  {
   "cell_type": "markdown",
   "metadata": {},
   "source": [
    "### Cleaning up the date column and converting it to date"
   ]
  },
  {
   "cell_type": "code",
   "execution_count": 10,
   "metadata": {},
   "outputs": [
    {
     "name": "stdout",
     "output_type": "stream",
     "text": [
      "                 date     price  bedrooms  bathrooms  sqft_living  sqft_lot  \\\n",
      "id                                                                            \n",
      "7129300520 2014-10-13  221900.0         3       1.00         1180      5650   \n",
      "6414100192 2014-12-09  538000.0         3       2.25         2570      7242   \n",
      "\n",
      "            floors  waterfront  view  condition  grade  sqft_above  \\\n",
      "id                                                                   \n",
      "7129300520     1.0           0     0          3      7        1180   \n",
      "6414100192     2.0           0     0          3      7        2170   \n",
      "\n",
      "            sqft_basement  yr_built  yr_renovated  zipcode  sqft_living15  \\\n",
      "id                                                                          \n",
      "7129300520              0      1955             0    98178           1340   \n",
      "6414100192            400      1951          1991    98125           1690   \n",
      "\n",
      "            sqft_lot15          id  \n",
      "id                                  \n",
      "7129300520        5650  7129300520  \n",
      "6414100192        7639  6414100192  \n"
     ]
    }
   ],
   "source": [
    "df['date']=df['date'].str[:8]\n",
    "df['date']=pd.to_datetime(df['date'])\n",
    "print(df.head(2))"
   ]
  },
  {
   "cell_type": "markdown",
   "metadata": {},
   "source": [
    "### Checking DataTypes"
   ]
  },
  {
   "cell_type": "code",
   "execution_count": 11,
   "metadata": {},
   "outputs": [
    {
     "data": {
      "text/plain": [
       "date             datetime64[ns]\n",
       "price                   float64\n",
       "bedrooms                  int64\n",
       "bathrooms               float64\n",
       "sqft_living               int64\n",
       "sqft_lot                  int64\n",
       "floors                  float64\n",
       "waterfront                int64\n",
       "view                      int64\n",
       "condition                 int64\n",
       "grade                     int64\n",
       "sqft_above                int64\n",
       "sqft_basement             int64\n",
       "yr_built                  int64\n",
       "yr_renovated              int64\n",
       "zipcode                   int64\n",
       "sqft_living15             int64\n",
       "sqft_lot15                int64\n",
       "id                        int64\n",
       "dtype: object"
      ]
     },
     "execution_count": 11,
     "metadata": {},
     "output_type": "execute_result"
    }
   ],
   "source": [
    "df.dtypes"
   ]
  },
  {
   "cell_type": "code",
   "execution_count": 12,
   "metadata": {},
   "outputs": [
    {
     "data": {
      "text/plain": [
       "date             datetime64[ns]\n",
       "price                   float64\n",
       "bedrooms                  int64\n",
       "bathrooms               float64\n",
       "sqft_living               int64\n",
       "sqft_lot                  int64\n",
       "floors                  float64\n",
       "waterfront                int64\n",
       "view                      int64\n",
       "condition                 int64\n",
       "grade                     int64\n",
       "sqft_above                int64\n",
       "sqft_basement             int64\n",
       "yr_built                  int64\n",
       "yr_renovated              int64\n",
       "zipcode                  object\n",
       "sqft_living15             int64\n",
       "sqft_lot15                int64\n",
       "id                       object\n",
       "dtype: object"
      ]
     },
     "execution_count": 12,
     "metadata": {},
     "output_type": "execute_result"
    }
   ],
   "source": [
    "df['zipcode']=df['zipcode'].astype('str')\n",
    "df['id']=df['id'].astype('str')\n",
    "df.dtypes"
   ]
  },
  {
   "cell_type": "markdown",
   "metadata": {},
   "source": [
    "### Using the apply function to transform a column we want to explore"
   ]
  },
  {
   "cell_type": "code",
   "execution_count": 13,
   "metadata": {},
   "outputs": [],
   "source": [
    "def to_meters(column):\n",
    "    return column*0.3048"
   ]
  },
  {
   "cell_type": "code",
   "execution_count": 14,
   "metadata": {},
   "outputs": [
    {
     "name": "stdout",
     "output_type": "stream",
     "text": [
      "            meters_living  meters_lot  meters_basement\n",
      "id                                                    \n",
      "7129300520        359.664   1722.1200            0.000\n",
      "6414100192        783.336   2207.3616          121.920\n",
      "5631500400        234.696   3048.0000            0.000\n",
      "2487200875        597.408   1524.0000          277.368\n",
      "1954400510        512.064   2462.7840            0.000\n",
      "...                   ...         ...              ...\n",
      "2997800021        399.288    394.4112           39.624\n",
      "6600060120        704.088   1771.8024            0.000\n",
      "1523300141        310.896    411.4800            0.000\n",
      "291310100         487.680    727.8624            0.000\n",
      "1523300157        310.896    327.9648            0.000\n",
      "\n",
      "[20522 rows x 3 columns]\n"
     ]
    }
   ],
   "source": [
    "df['meters_living']=df['sqft_living'].apply(to_meters)\n",
    "df['meters_lot']=df['sqft_lot'].apply(to_meters)\n",
    "df['meters_basement']=df['sqft_basement'].apply(to_meters)\n",
    "print(df[['meters_living','meters_lot','meters_basement']])"
   ]
  },
  {
   "cell_type": "markdown",
   "metadata": {},
   "source": [
    "### The most basic EDA we can do is use the value_counts method on a column to see the count by label"
   ]
  },
  {
   "cell_type": "code",
   "execution_count": 15,
   "metadata": {},
   "outputs": [
    {
     "data": {
      "text/plain": [
       "2014    468\n",
       "2005    404\n",
       "1977    402\n",
       "2003    400\n",
       "2004    399\n",
       "       ... \n",
       "2015     29\n",
       "1901     26\n",
       "1935     24\n",
       "1902     22\n",
       "1934     21\n",
       "Name: yr_built, Length: 116, dtype: int64"
      ]
     },
     "execution_count": 15,
     "metadata": {},
     "output_type": "execute_result"
    }
   ],
   "source": [
    "df['yr_built'].value_counts(sort=True, ascending=False)"
   ]
  },
  {
   "cell_type": "code",
   "execution_count": 16,
   "metadata": {},
   "outputs": [
    {
     "data": {
      "text/plain": [
       "3    9359\n",
       "4    6763\n",
       "2    2630\n",
       "5    1565\n",
       "1     195\n",
       "0      10\n",
       "Name: bedrooms, dtype: int64"
      ]
     },
     "execution_count": 16,
     "metadata": {},
     "output_type": "execute_result"
    }
   ],
   "source": [
    "df['bedrooms'].value_counts(sort=True, ascending=False)"
   ]
  },
  {
   "cell_type": "markdown",
   "metadata": {},
   "source": [
    "##### This method also has an optional parameter called dropna which is True by default. What this means is if you have missing data in a column, it will not give a frequency count of them. You want to set the dropna column to False so if there are missing values in a column, it will give you the frequency counts.\n",
    " "
   ]
  },
  {
   "cell_type": "markdown",
   "metadata": {},
   "source": [
    "#### The unique method allows you to see the levels within one Series"
   ]
  },
  {
   "cell_type": "code",
   "execution_count": 17,
   "metadata": {},
   "outputs": [
    {
     "data": {
      "text/plain": [
       "array(['98178', '98125', '98028', '98136', '98074', '98053', '98003',\n",
       "       '98198', '98146', '98038', '98007', '98115', '98107', '98126',\n",
       "       '98019', '98103', '98002', '98133', '98040', '98092', '98030',\n",
       "       '98119', '98112', '98052', '98027', '98117', '98058', '98001',\n",
       "       '98056', '98166', '98023', '98070', '98148', '98105', '98042',\n",
       "       '98008', '98059', '98122', '98144', '98004', '98005', '98034',\n",
       "       '98075', '98116', '98010', '98118', '98199', '98032', '98045',\n",
       "       '98102', '98077', '98108', '98168', '98177', '98065', '98029',\n",
       "       '98006', '98109', '98022', '98033', '98155', '98024', '98011',\n",
       "       '98031', '98106', '98072', '98188', '98014', '98055', '98039'],\n",
       "      dtype=object)"
      ]
     },
     "execution_count": 17,
     "metadata": {},
     "output_type": "execute_result"
    }
   ],
   "source": [
    "df['zipcode'].unique()"
   ]
  },
  {
   "cell_type": "markdown",
   "metadata": {},
   "source": [
    "## Statistical Exploratory Data Analysis (EDA) and Hypothesis Testing"
   ]
  },
  {
   "cell_type": "markdown",
   "metadata": {},
   "source": [
    "#### One of the first steps in statistical data analysis is to get summary statistics of each of the numeric columns in the DataFrame"
   ]
  },
  {
   "cell_type": "code",
   "execution_count": 18,
   "metadata": {},
   "outputs": [
    {
     "data": {
      "text/html": [
       "<div>\n",
       "<style scoped>\n",
       "    .dataframe tbody tr th:only-of-type {\n",
       "        vertical-align: middle;\n",
       "    }\n",
       "\n",
       "    .dataframe tbody tr th {\n",
       "        vertical-align: top;\n",
       "    }\n",
       "\n",
       "    .dataframe thead th {\n",
       "        text-align: right;\n",
       "    }\n",
       "</style>\n",
       "<table border=\"1\" class=\"dataframe\">\n",
       "  <thead>\n",
       "    <tr style=\"text-align: right;\">\n",
       "      <th></th>\n",
       "      <th>price</th>\n",
       "      <th>bedrooms</th>\n",
       "      <th>bathrooms</th>\n",
       "      <th>sqft_living</th>\n",
       "      <th>sqft_lot</th>\n",
       "      <th>floors</th>\n",
       "      <th>waterfront</th>\n",
       "      <th>view</th>\n",
       "      <th>condition</th>\n",
       "      <th>grade</th>\n",
       "      <th>sqft_above</th>\n",
       "      <th>sqft_basement</th>\n",
       "      <th>yr_built</th>\n",
       "      <th>yr_renovated</th>\n",
       "      <th>sqft_living15</th>\n",
       "      <th>sqft_lot15</th>\n",
       "      <th>meters_living</th>\n",
       "      <th>meters_lot</th>\n",
       "      <th>meters_basement</th>\n",
       "    </tr>\n",
       "  </thead>\n",
       "  <tbody>\n",
       "    <tr>\n",
       "      <td>count</td>\n",
       "      <td>2.052200e+04</td>\n",
       "      <td>20522.000000</td>\n",
       "      <td>20522.000000</td>\n",
       "      <td>20522.000000</td>\n",
       "      <td>2.052200e+04</td>\n",
       "      <td>20522.000000</td>\n",
       "      <td>20522.000000</td>\n",
       "      <td>20522.000000</td>\n",
       "      <td>20522.000000</td>\n",
       "      <td>20522.000000</td>\n",
       "      <td>20522.000000</td>\n",
       "      <td>20522.000000</td>\n",
       "      <td>20522.000000</td>\n",
       "      <td>20522.000000</td>\n",
       "      <td>20522.000000</td>\n",
       "      <td>20522.000000</td>\n",
       "      <td>20522.000000</td>\n",
       "      <td>20522.000000</td>\n",
       "      <td>20522.000000</td>\n",
       "    </tr>\n",
       "    <tr>\n",
       "      <td>mean</td>\n",
       "      <td>5.311863e+05</td>\n",
       "      <td>3.333447</td>\n",
       "      <td>2.082582</td>\n",
       "      <td>2062.513449</td>\n",
       "      <td>1.537122e+04</td>\n",
       "      <td>1.439821</td>\n",
       "      <td>0.007261</td>\n",
       "      <td>0.227025</td>\n",
       "      <td>3.419598</td>\n",
       "      <td>7.627278</td>\n",
       "      <td>1772.367654</td>\n",
       "      <td>290.145795</td>\n",
       "      <td>1970.160072</td>\n",
       "      <td>83.925738</td>\n",
       "      <td>1991.401228</td>\n",
       "      <td>12997.139899</td>\n",
       "      <td>628.654099</td>\n",
       "      <td>4685.149284</td>\n",
       "      <td>88.436438</td>\n",
       "    </tr>\n",
       "    <tr>\n",
       "      <td>std</td>\n",
       "      <td>3.515262e+05</td>\n",
       "      <td>0.833056</td>\n",
       "      <td>0.749559</td>\n",
       "      <td>889.627827</td>\n",
       "      <td>4.155516e+04</td>\n",
       "      <td>0.472847</td>\n",
       "      <td>0.084901</td>\n",
       "      <td>0.752278</td>\n",
       "      <td>0.655142</td>\n",
       "      <td>1.171433</td>\n",
       "      <td>813.608611</td>\n",
       "      <td>435.798562</td>\n",
       "      <td>28.986320</td>\n",
       "      <td>400.585378</td>\n",
       "      <td>682.637438</td>\n",
       "      <td>27292.525476</td>\n",
       "      <td>271.158562</td>\n",
       "      <td>12666.013493</td>\n",
       "      <td>132.831402</td>\n",
       "    </tr>\n",
       "    <tr>\n",
       "      <td>min</td>\n",
       "      <td>7.500000e+04</td>\n",
       "      <td>0.000000</td>\n",
       "      <td>0.000000</td>\n",
       "      <td>290.000000</td>\n",
       "      <td>5.200000e+02</td>\n",
       "      <td>1.000000</td>\n",
       "      <td>0.000000</td>\n",
       "      <td>0.000000</td>\n",
       "      <td>1.000000</td>\n",
       "      <td>1.000000</td>\n",
       "      <td>290.000000</td>\n",
       "      <td>0.000000</td>\n",
       "      <td>1900.000000</td>\n",
       "      <td>0.000000</td>\n",
       "      <td>399.000000</td>\n",
       "      <td>651.000000</td>\n",
       "      <td>88.392000</td>\n",
       "      <td>158.496000</td>\n",
       "      <td>0.000000</td>\n",
       "    </tr>\n",
       "    <tr>\n",
       "      <td>25%</td>\n",
       "      <td>3.175312e+05</td>\n",
       "      <td>3.000000</td>\n",
       "      <td>1.500000</td>\n",
       "      <td>1420.000000</td>\n",
       "      <td>5.225000e+03</td>\n",
       "      <td>1.000000</td>\n",
       "      <td>0.000000</td>\n",
       "      <td>0.000000</td>\n",
       "      <td>3.000000</td>\n",
       "      <td>7.000000</td>\n",
       "      <td>1180.000000</td>\n",
       "      <td>0.000000</td>\n",
       "      <td>1951.000000</td>\n",
       "      <td>0.000000</td>\n",
       "      <td>1490.000000</td>\n",
       "      <td>5251.500000</td>\n",
       "      <td>432.816000</td>\n",
       "      <td>1592.580000</td>\n",
       "      <td>0.000000</td>\n",
       "    </tr>\n",
       "    <tr>\n",
       "      <td>50%</td>\n",
       "      <td>4.470000e+05</td>\n",
       "      <td>3.000000</td>\n",
       "      <td>2.250000</td>\n",
       "      <td>1910.000000</td>\n",
       "      <td>7.708000e+03</td>\n",
       "      <td>1.000000</td>\n",
       "      <td>0.000000</td>\n",
       "      <td>0.000000</td>\n",
       "      <td>3.000000</td>\n",
       "      <td>7.000000</td>\n",
       "      <td>1551.000000</td>\n",
       "      <td>0.000000</td>\n",
       "      <td>1973.000000</td>\n",
       "      <td>0.000000</td>\n",
       "      <td>1850.000000</td>\n",
       "      <td>7700.000000</td>\n",
       "      <td>582.168000</td>\n",
       "      <td>2349.398400</td>\n",
       "      <td>0.000000</td>\n",
       "    </tr>\n",
       "    <tr>\n",
       "      <td>75%</td>\n",
       "      <td>6.351500e+05</td>\n",
       "      <td>4.000000</td>\n",
       "      <td>2.500000</td>\n",
       "      <td>2520.000000</td>\n",
       "      <td>1.080000e+04</td>\n",
       "      <td>2.000000</td>\n",
       "      <td>0.000000</td>\n",
       "      <td>0.000000</td>\n",
       "      <td>4.000000</td>\n",
       "      <td>8.000000</td>\n",
       "      <td>2190.000000</td>\n",
       "      <td>560.000000</td>\n",
       "      <td>1994.000000</td>\n",
       "      <td>0.000000</td>\n",
       "      <td>2370.000000</td>\n",
       "      <td>10154.750000</td>\n",
       "      <td>768.096000</td>\n",
       "      <td>3291.840000</td>\n",
       "      <td>170.688000</td>\n",
       "    </tr>\n",
       "    <tr>\n",
       "      <td>max</td>\n",
       "      <td>7.062500e+06</td>\n",
       "      <td>5.000000</td>\n",
       "      <td>6.750000</td>\n",
       "      <td>10040.000000</td>\n",
       "      <td>1.651359e+06</td>\n",
       "      <td>2.000000</td>\n",
       "      <td>1.000000</td>\n",
       "      <td>4.000000</td>\n",
       "      <td>5.000000</td>\n",
       "      <td>13.000000</td>\n",
       "      <td>8020.000000</td>\n",
       "      <td>4820.000000</td>\n",
       "      <td>2015.000000</td>\n",
       "      <td>2015.000000</td>\n",
       "      <td>6210.000000</td>\n",
       "      <td>871200.000000</td>\n",
       "      <td>3060.192000</td>\n",
       "      <td>503334.223200</td>\n",
       "      <td>1469.136000</td>\n",
       "    </tr>\n",
       "  </tbody>\n",
       "</table>\n",
       "</div>"
      ],
      "text/plain": [
       "              price      bedrooms     bathrooms   sqft_living      sqft_lot  \\\n",
       "count  2.052200e+04  20522.000000  20522.000000  20522.000000  2.052200e+04   \n",
       "mean   5.311863e+05      3.333447      2.082582   2062.513449  1.537122e+04   \n",
       "std    3.515262e+05      0.833056      0.749559    889.627827  4.155516e+04   \n",
       "min    7.500000e+04      0.000000      0.000000    290.000000  5.200000e+02   \n",
       "25%    3.175312e+05      3.000000      1.500000   1420.000000  5.225000e+03   \n",
       "50%    4.470000e+05      3.000000      2.250000   1910.000000  7.708000e+03   \n",
       "75%    6.351500e+05      4.000000      2.500000   2520.000000  1.080000e+04   \n",
       "max    7.062500e+06      5.000000      6.750000  10040.000000  1.651359e+06   \n",
       "\n",
       "             floors    waterfront          view     condition         grade  \\\n",
       "count  20522.000000  20522.000000  20522.000000  20522.000000  20522.000000   \n",
       "mean       1.439821      0.007261      0.227025      3.419598      7.627278   \n",
       "std        0.472847      0.084901      0.752278      0.655142      1.171433   \n",
       "min        1.000000      0.000000      0.000000      1.000000      1.000000   \n",
       "25%        1.000000      0.000000      0.000000      3.000000      7.000000   \n",
       "50%        1.000000      0.000000      0.000000      3.000000      7.000000   \n",
       "75%        2.000000      0.000000      0.000000      4.000000      8.000000   \n",
       "max        2.000000      1.000000      4.000000      5.000000     13.000000   \n",
       "\n",
       "         sqft_above  sqft_basement      yr_built  yr_renovated  sqft_living15  \\\n",
       "count  20522.000000   20522.000000  20522.000000  20522.000000   20522.000000   \n",
       "mean    1772.367654     290.145795   1970.160072     83.925738    1991.401228   \n",
       "std      813.608611     435.798562     28.986320    400.585378     682.637438   \n",
       "min      290.000000       0.000000   1900.000000      0.000000     399.000000   \n",
       "25%     1180.000000       0.000000   1951.000000      0.000000    1490.000000   \n",
       "50%     1551.000000       0.000000   1973.000000      0.000000    1850.000000   \n",
       "75%     2190.000000     560.000000   1994.000000      0.000000    2370.000000   \n",
       "max     8020.000000    4820.000000   2015.000000   2015.000000    6210.000000   \n",
       "\n",
       "          sqft_lot15  meters_living     meters_lot  meters_basement  \n",
       "count   20522.000000   20522.000000   20522.000000     20522.000000  \n",
       "mean    12997.139899     628.654099    4685.149284        88.436438  \n",
       "std     27292.525476     271.158562   12666.013493       132.831402  \n",
       "min       651.000000      88.392000     158.496000         0.000000  \n",
       "25%      5251.500000     432.816000    1592.580000         0.000000  \n",
       "50%      7700.000000     582.168000    2349.398400         0.000000  \n",
       "75%     10154.750000     768.096000    3291.840000       170.688000  \n",
       "max    871200.000000    3060.192000  503334.223200      1469.136000  "
      ]
     },
     "execution_count": 18,
     "metadata": {},
     "output_type": "execute_result"
    }
   ],
   "source": [
    "df.describe()"
   ]
  },
  {
   "cell_type": "markdown",
   "metadata": {},
   "source": [
    "#### The groupby function in pandas is a great way to statistically help you understand more about the data you are working with "
   ]
  },
  {
   "cell_type": "code",
   "execution_count": 19,
   "metadata": {},
   "outputs": [
    {
     "data": {
      "text/plain": [
       "bedrooms\n",
       "0    356055.000000\n",
       "1    316027.866667\n",
       "2    396941.615589\n",
       "3    462481.635538\n",
       "4    628712.714180\n",
       "5    774129.383387\n",
       "Name: price, dtype: float64"
      ]
     },
     "execution_count": 19,
     "metadata": {},
     "output_type": "execute_result"
    }
   ],
   "source": [
    "df.groupby('bedrooms')['price'].mean()"
   ]
  },
  {
   "cell_type": "code",
   "execution_count": 20,
   "metadata": {},
   "outputs": [
    {
     "data": {
      "text/plain": [
       "floors  waterfront\n",
       "1.0     0             3800000.0\n",
       "        1             4668000.0\n",
       "1.5     0             2900000.0\n",
       "        1             2485000.0\n",
       "2.0     0             5570000.0\n",
       "        1             7062500.0\n",
       "Name: price, dtype: float64"
      ]
     },
     "execution_count": 20,
     "metadata": {},
     "output_type": "execute_result"
    }
   ],
   "source": [
    "df.groupby(['floors','waterfront'])['price'].max()"
   ]
  },
  {
   "cell_type": "code",
   "execution_count": 21,
   "metadata": {},
   "outputs": [
    {
     "data": {
      "text/html": [
       "<div>\n",
       "<style scoped>\n",
       "    .dataframe tbody tr th:only-of-type {\n",
       "        vertical-align: middle;\n",
       "    }\n",
       "\n",
       "    .dataframe tbody tr th {\n",
       "        vertical-align: top;\n",
       "    }\n",
       "\n",
       "    .dataframe thead th {\n",
       "        text-align: right;\n",
       "    }\n",
       "</style>\n",
       "<table border=\"1\" class=\"dataframe\">\n",
       "  <thead>\n",
       "    <tr style=\"text-align: right;\">\n",
       "      <th></th>\n",
       "      <th></th>\n",
       "      <th>mean</th>\n",
       "      <th>min</th>\n",
       "      <th>max</th>\n",
       "    </tr>\n",
       "    <tr>\n",
       "      <th>floors</th>\n",
       "      <th>waterfront</th>\n",
       "      <th></th>\n",
       "      <th></th>\n",
       "      <th></th>\n",
       "    </tr>\n",
       "  </thead>\n",
       "  <tbody>\n",
       "    <tr>\n",
       "      <td rowspan=\"2\" valign=\"top\">1.0</td>\n",
       "      <td>0</td>\n",
       "      <td>4.360581e+05</td>\n",
       "      <td>75000.0</td>\n",
       "      <td>3800000.0</td>\n",
       "    </tr>\n",
       "    <tr>\n",
       "      <td>1</td>\n",
       "      <td>1.258935e+06</td>\n",
       "      <td>285000.0</td>\n",
       "      <td>4668000.0</td>\n",
       "    </tr>\n",
       "    <tr>\n",
       "      <td rowspan=\"2\" valign=\"top\">1.5</td>\n",
       "      <td>0</td>\n",
       "      <td>5.490059e+05</td>\n",
       "      <td>92000.0</td>\n",
       "      <td>2900000.0</td>\n",
       "    </tr>\n",
       "    <tr>\n",
       "      <td>1</td>\n",
       "      <td>1.249742e+06</td>\n",
       "      <td>425000.0</td>\n",
       "      <td>2485000.0</td>\n",
       "    </tr>\n",
       "    <tr>\n",
       "      <td rowspan=\"2\" valign=\"top\">2.0</td>\n",
       "      <td>0</td>\n",
       "      <td>6.315219e+05</td>\n",
       "      <td>90000.0</td>\n",
       "      <td>5570000.0</td>\n",
       "    </tr>\n",
       "    <tr>\n",
       "      <td>1</td>\n",
       "      <td>2.000426e+06</td>\n",
       "      <td>380000.0</td>\n",
       "      <td>7062500.0</td>\n",
       "    </tr>\n",
       "  </tbody>\n",
       "</table>\n",
       "</div>"
      ],
      "text/plain": [
       "                           mean       min        max\n",
       "floors waterfront                                   \n",
       "1.0    0           4.360581e+05   75000.0  3800000.0\n",
       "       1           1.258935e+06  285000.0  4668000.0\n",
       "1.5    0           5.490059e+05   92000.0  2900000.0\n",
       "       1           1.249742e+06  425000.0  2485000.0\n",
       "2.0    0           6.315219e+05   90000.0  5570000.0\n",
       "       1           2.000426e+06  380000.0  7062500.0"
      ]
     },
     "execution_count": 21,
     "metadata": {},
     "output_type": "execute_result"
    }
   ],
   "source": [
    "df.groupby(['floors','waterfront'])['price'].agg(['mean','min','max'])"
   ]
  },
  {
   "cell_type": "markdown",
   "metadata": {},
   "source": [
    "### Programmatically pivoting data using Pandas"
   ]
  },
  {
   "cell_type": "code",
   "execution_count": 22,
   "metadata": {},
   "outputs": [
    {
     "data": {
      "text/plain": [
       "\u001b[0;31mSignature:\u001b[0m \u001b[0mdf\u001b[0m\u001b[0;34m.\u001b[0m\u001b[0mpivot\u001b[0m\u001b[0;34m(\u001b[0m\u001b[0mindex\u001b[0m\u001b[0;34m=\u001b[0m\u001b[0;32mNone\u001b[0m\u001b[0;34m,\u001b[0m \u001b[0mcolumns\u001b[0m\u001b[0;34m=\u001b[0m\u001b[0;32mNone\u001b[0m\u001b[0;34m,\u001b[0m \u001b[0mvalues\u001b[0m\u001b[0;34m=\u001b[0m\u001b[0;32mNone\u001b[0m\u001b[0;34m)\u001b[0m\u001b[0;34m\u001b[0m\u001b[0;34m\u001b[0m\u001b[0m\n",
       "\u001b[0;31mDocstring:\u001b[0m\n",
       "Return reshaped DataFrame organized by given index / column values.\n",
       "\n",
       "Reshape data (produce a \"pivot\" table) based on column values. Uses\n",
       "unique values from specified `index` / `columns` to form axes of the\n",
       "resulting DataFrame. This function does not support data\n",
       "aggregation, multiple values will result in a MultiIndex in the\n",
       "columns. See the :ref:`User Guide <reshaping>` for more on reshaping.\n",
       "\n",
       "Parameters\n",
       "----------\n",
       "index : string or object, optional\n",
       "    Column to use to make new frame's index. If None, uses\n",
       "    existing index.\n",
       "columns : string or object\n",
       "    Column to use to make new frame's columns.\n",
       "values : string, object or a list of the previous, optional\n",
       "    Column(s) to use for populating new frame's values. If not\n",
       "    specified, all remaining columns will be used and the result will\n",
       "    have hierarchically indexed columns.\n",
       "\n",
       "    .. versionchanged :: 0.23.0\n",
       "       Also accept list of column names.\n",
       "\n",
       "Returns\n",
       "-------\n",
       "DataFrame\n",
       "    Returns reshaped DataFrame.\n",
       "\n",
       "Raises\n",
       "------\n",
       "ValueError:\n",
       "    When there are any `index`, `columns` combinations with multiple\n",
       "    values. `DataFrame.pivot_table` when you need to aggregate.\n",
       "\n",
       "See Also\n",
       "--------\n",
       "DataFrame.pivot_table : Generalization of pivot that can handle\n",
       "    duplicate values for one index/column pair.\n",
       "DataFrame.unstack : Pivot based on the index values instead of a\n",
       "    column.\n",
       "\n",
       "Notes\n",
       "-----\n",
       "For finer-tuned control, see hierarchical indexing documentation along\n",
       "with the related stack/unstack methods.\n",
       "\n",
       "Examples\n",
       "--------\n",
       ">>> df = pd.DataFrame({'foo': ['one', 'one', 'one', 'two', 'two',\n",
       "...                            'two'],\n",
       "...                    'bar': ['A', 'B', 'C', 'A', 'B', 'C'],\n",
       "...                    'baz': [1, 2, 3, 4, 5, 6],\n",
       "...                    'zoo': ['x', 'y', 'z', 'q', 'w', 't']})\n",
       ">>> df\n",
       "    foo   bar  baz  zoo\n",
       "0   one   A    1    x\n",
       "1   one   B    2    y\n",
       "2   one   C    3    z\n",
       "3   two   A    4    q\n",
       "4   two   B    5    w\n",
       "5   two   C    6    t\n",
       "\n",
       ">>> df.pivot(index='foo', columns='bar', values='baz')\n",
       "bar  A   B   C\n",
       "foo\n",
       "one  1   2   3\n",
       "two  4   5   6\n",
       "\n",
       ">>> df.pivot(index='foo', columns='bar')['baz']\n",
       "bar  A   B   C\n",
       "foo\n",
       "one  1   2   3\n",
       "two  4   5   6\n",
       "\n",
       ">>> df.pivot(index='foo', columns='bar', values=['baz', 'zoo'])\n",
       "      baz       zoo\n",
       "bar   A  B  C   A  B  C\n",
       "foo\n",
       "one   1  2  3   x  y  z\n",
       "two   4  5  6   q  w  t\n",
       "\n",
       "A ValueError is raised if there are any duplicates.\n",
       "\n",
       ">>> df = pd.DataFrame({\"foo\": ['one', 'one', 'two', 'two'],\n",
       "...                    \"bar\": ['A', 'A', 'B', 'C'],\n",
       "...                    \"baz\": [1, 2, 3, 4]})\n",
       ">>> df\n",
       "   foo bar  baz\n",
       "0  one   A    1\n",
       "1  one   A    2\n",
       "2  two   B    3\n",
       "3  two   C    4\n",
       "\n",
       "Notice that the first two rows are the same for our `index`\n",
       "and `columns` arguments.\n",
       "\n",
       ">>> df.pivot(index='foo', columns='bar', values='baz')\n",
       "Traceback (most recent call last):\n",
       "   ...\n",
       "ValueError: Index contains duplicate entries, cannot reshape\n",
       "\u001b[0;31mFile:\u001b[0m      ~/anaconda3/lib/python3.7/site-packages/pandas/core/frame.py\n",
       "\u001b[0;31mType:\u001b[0m      method\n"
      ]
     },
     "metadata": {},
     "output_type": "display_data"
    }
   ],
   "source": [
    "?df.pivot"
   ]
  },
  {
   "cell_type": "markdown",
   "metadata": {},
   "source": [
    "year_built_pivot = df.pivot_table(index='yr_built',columns='waterfront', values='id',aggfunc='count')\n",
    "print(year_built_pivot)"
   ]
  },
  {
   "cell_type": "code",
   "execution_count": 23,
   "metadata": {},
   "outputs": [
    {
     "name": "stdout",
     "output_type": "stream",
     "text": [
      "floors          1.0        1.5        2.0\n",
      "bedrooms                                 \n",
      "0          265000.0        NaN  1295650.0\n",
      "1          655100.0  1247000.0   680000.0\n",
      "2         1550000.0  1370000.0  1998000.0\n",
      "3         3300000.0  2400000.0  3800000.0\n",
      "4         3395000.0  2900000.0  4489000.0\n",
      "5         4668000.0  2408000.0  7062500.0\n"
     ]
    }
   ],
   "source": [
    "bedrooms_floors_pivot = df.pivot_table(index='bedrooms',columns='floors', values='price',aggfunc='max')\n",
    "print(bedrooms_floors_pivot)"
   ]
  },
  {
   "cell_type": "markdown",
   "metadata": {},
   "source": [
    "#### Computing the correlation coefficient between two numeric variables"
   ]
  },
  {
   "cell_type": "code",
   "execution_count": 24,
   "metadata": {},
   "outputs": [
    {
     "data": {
      "text/plain": [
       "(0.5877225342901817, 0.0)"
      ]
     },
     "execution_count": 24,
     "metadata": {},
     "output_type": "execute_result"
    }
   ],
   "source": [
    "from scipy.stats import pearsonr\n",
    "pearsonr(df['sqft_living'],df['bedrooms'])"
   ]
  },
  {
   "cell_type": "markdown",
   "metadata": {},
   "source": [
    "#### Percentiles, are a good option to help you statistically explore different features in our DataFrames"
   ]
  },
  {
   "cell_type": "code",
   "execution_count": 25,
   "metadata": {},
   "outputs": [
    {
     "data": {
      "text/plain": [
       "array([ 182571.3 ,  317531.25,  447000.  ,  635150.  , 1438817.75])"
      ]
     },
     "execution_count": 25,
     "metadata": {},
     "output_type": "execute_result"
    }
   ],
   "source": [
    "import numpy as np\n",
    "percentiles = [2.5,25,50,75,97.5]\n",
    "np.percentile(df['price'],percentiles)"
   ]
  },
  {
   "cell_type": "markdown",
   "metadata": {},
   "source": [
    "### One other library that is essential for data analysis is the numpy library"
   ]
  },
  {
   "cell_type": "markdown",
   "metadata": {},
   "source": [
    "#### Numpy has many functions available for statistical and hypothesis testing"
   ]
  },
  {
   "cell_type": "code",
   "execution_count": 26,
   "metadata": {},
   "outputs": [],
   "source": [
    "import numpy as np"
   ]
  },
  {
   "cell_type": "code",
   "execution_count": 27,
   "metadata": {},
   "outputs": [
    {
     "name": "stdout",
     "output_type": "stream",
     "text": [
      "/Users/josezenteno/Intro_to_Python/nyse\n"
     ]
    }
   ],
   "source": [
    "%cd /Users/josezenteno/Intro_to_Python/nyse\n",
    "import pandas as pd\n",
    "prices15=pd.read_csv('prices15.csv', parse_dates=True, index_col='date')\n",
    "prices15['date']=prices15.index\n",
    "from pandas.plotting import register_matplotlib_converters\n",
    "google = prices15[prices15['symbol']=='GOOGL']"
   ]
  },
  {
   "cell_type": "markdown",
   "metadata": {},
   "source": [
    "#### Standard Deviation of a Series"
   ]
  },
  {
   "cell_type": "code",
   "execution_count": 28,
   "metadata": {},
   "outputs": [
    {
     "data": {
      "text/plain": [
       "1129964.0455620873"
      ]
     },
     "execution_count": 28,
     "metadata": {},
     "output_type": "execute_result"
    }
   ],
   "source": [
    "np.std(google['volume'])"
   ]
  },
  {
   "cell_type": "markdown",
   "metadata": {},
   "source": [
    "### The stats module in the scipy package contains a lot of functions that are essential for hypothesis testing and statistical analysis"
   ]
  },
  {
   "cell_type": "code",
   "execution_count": 29,
   "metadata": {},
   "outputs": [],
   "source": [
    "from scipy import stats"
   ]
  },
  {
   "cell_type": "code",
   "execution_count": 30,
   "metadata": {},
   "outputs": [
    {
     "name": "stdout",
     "output_type": "stream",
     "text": [
      "['PearsonRConstantInputWarning', 'PearsonRNearConstantInputWarning', '__all__', '__builtins__', '__cached__', '__doc__', '__file__', '__loader__', '__name__', '__package__', '__path__', '__spec__', '_binned_statistic', '_constants', '_continuous_distns', '_discrete_distns', '_distn_infrastructure', '_distr_params', '_hypotests', '_multivariate', '_rvs_sampling', '_stats', '_stats_mstats_common', '_tukeylambda_stats', 'absolute_import', 'alpha', 'anderson', 'anderson_ksamp', 'anglit', 'ansari', 'arcsine', 'argus', 'bartlett', 'bayes_mvs', 'bernoulli', 'beta', 'betaprime', 'binned_statistic', 'binned_statistic_2d', 'binned_statistic_dd', 'binom', 'binom_test', 'boltzmann', 'boxcox', 'boxcox_llf', 'boxcox_normmax', 'boxcox_normplot', 'bradford', 'brunnermunzel', 'burr', 'burr12', 'cauchy', 'chi', 'chi2', 'chi2_contingency', 'chisquare', 'circmean', 'circstd', 'circvar', 'combine_pvalues', 'contingency', 'cosine', 'crystalball', 'cumfreq', 'describe', 'dgamma', 'dirichlet', 'distributions', 'division', 'dlaplace', 'dweibull', 'energy_distance', 'entropy', 'epps_singleton_2samp', 'erlang', 'expon', 'exponnorm', 'exponpow', 'exponweib', 'f', 'f_oneway', 'fatiguelife', 'find_repeats', 'fisher_exact', 'fisk', 'fligner', 'foldcauchy', 'foldnorm', 'frechet_l', 'frechet_r', 'friedmanchisquare', 'gamma', 'gausshyper', 'gaussian_kde', 'genexpon', 'genextreme', 'gengamma', 'genhalflogistic', 'genlogistic', 'gennorm', 'genpareto', 'geom', 'gilbrat', 'gmean', 'gompertz', 'gstd', 'gumbel_l', 'gumbel_r', 'halfcauchy', 'halfgennorm', 'halflogistic', 'halfnorm', 'hmean', 'hypergeom', 'hypsecant', 'invgamma', 'invgauss', 'invweibull', 'invwishart', 'iqr', 'itemfreq', 'jarque_bera', 'johnsonsb', 'johnsonsu', 'kappa3', 'kappa4', 'kde', 'kendalltau', 'kruskal', 'ks_2samp', 'ksone', 'kstat', 'kstatvar', 'kstest', 'kstwobign', 'kurtosis', 'kurtosistest', 'laplace', 'levene', 'levy', 'levy_l', 'levy_stable', 'linregress', 'loggamma', 'logistic', 'loglaplace', 'lognorm', 'logser', 'lomax', 'mannwhitneyu', 'matrix_normal', 'maxwell', 'median_absolute_deviation', 'median_test', 'mielke', 'mode', 'moment', 'mood', 'morestats', 'moyal', 'mstats', 'mstats_basic', 'mstats_extras', 'multinomial', 'multivariate_normal', 'mvn', 'mvsdist', 'nakagami', 'nbinom', 'ncf', 'nct', 'ncx2', 'norm', 'normaltest', 'norminvgauss', 'obrientransform', 'ortho_group', 'pareto', 'pearson3', 'pearsonr', 'percentileofscore', 'planck', 'pointbiserialr', 'poisson', 'power_divergence', 'powerlaw', 'powerlognorm', 'powernorm', 'ppcc_max', 'ppcc_plot', 'print_function', 'probplot', 'randint', 'random_correlation', 'rankdata', 'ranksums', 'rayleigh', 'rdist', 'recipinvgauss', 'reciprocal', 'relfreq', 'rice', 'rv_continuous', 'rv_discrete', 'rv_histogram', 'rvs_ratio_uniforms', 'scoreatpercentile', 'sem', 'semicircular', 'shapiro', 'siegelslopes', 'sigmaclip', 'skellam', 'skew', 'skewnorm', 'skewtest', 'spearmanr', 'special_ortho_group', 'statlib', 'stats', 't', 'test', 'theilslopes', 'tiecorrect', 'tmax', 'tmean', 'tmin', 'trapz', 'triang', 'trim1', 'trim_mean', 'trimboth', 'truncexpon', 'truncnorm', 'tsem', 'tstd', 'ttest_1samp', 'ttest_ind', 'ttest_ind_from_stats', 'ttest_rel', 'tukeylambda', 'tvar', 'uniform', 'unitary_group', 'variation', 'vonmises', 'vonmises_line', 'wald', 'wasserstein_distance', 'weibull_max', 'weibull_min', 'weightedtau', 'wilcoxon', 'wishart', 'wrapcauchy', 'yeojohnson', 'yeojohnson_llf', 'yeojohnson_normmax', 'yeojohnson_normplot', 'yulesimon', 'zipf', 'zmap', 'zscore']\n"
     ]
    }
   ],
   "source": [
    "print(dir(stats))"
   ]
  },
  {
   "cell_type": "markdown",
   "metadata": {},
   "source": [
    "#### Calculate the T-test for the means of *two independent* samples of scores"
   ]
  },
  {
   "cell_type": "code",
   "execution_count": 31,
   "metadata": {},
   "outputs": [
    {
     "data": {
      "text/plain": [
       "\u001b[0;31mSignature:\u001b[0m \u001b[0mstats\u001b[0m\u001b[0;34m.\u001b[0m\u001b[0mttest_ind\u001b[0m\u001b[0;34m(\u001b[0m\u001b[0ma\u001b[0m\u001b[0;34m,\u001b[0m \u001b[0mb\u001b[0m\u001b[0;34m,\u001b[0m \u001b[0maxis\u001b[0m\u001b[0;34m=\u001b[0m\u001b[0;36m0\u001b[0m\u001b[0;34m,\u001b[0m \u001b[0mequal_var\u001b[0m\u001b[0;34m=\u001b[0m\u001b[0;32mTrue\u001b[0m\u001b[0;34m,\u001b[0m \u001b[0mnan_policy\u001b[0m\u001b[0;34m=\u001b[0m\u001b[0;34m'propagate'\u001b[0m\u001b[0;34m)\u001b[0m\u001b[0;34m\u001b[0m\u001b[0;34m\u001b[0m\u001b[0m\n",
       "\u001b[0;31mDocstring:\u001b[0m\n",
       "Calculate the T-test for the means of *two independent* samples of scores.\n",
       "\n",
       "This is a two-sided test for the null hypothesis that 2 independent samples\n",
       "have identical average (expected) values. This test assumes that the\n",
       "populations have identical variances by default.\n",
       "\n",
       "Parameters\n",
       "----------\n",
       "a, b : array_like\n",
       "    The arrays must have the same shape, except in the dimension\n",
       "    corresponding to `axis` (the first, by default).\n",
       "axis : int or None, optional\n",
       "    Axis along which to compute test. If None, compute over the whole\n",
       "    arrays, `a`, and `b`.\n",
       "equal_var : bool, optional\n",
       "    If True (default), perform a standard independent 2 sample test\n",
       "    that assumes equal population variances [1]_.\n",
       "    If False, perform Welch's t-test, which does not assume equal\n",
       "    population variance [2]_.\n",
       "\n",
       "    .. versionadded:: 0.11.0\n",
       "nan_policy : {'propagate', 'raise', 'omit'}, optional\n",
       "    Defines how to handle when input contains nan. 'propagate' returns nan,\n",
       "    'raise' throws an error, 'omit' performs the calculations ignoring nan\n",
       "    values. Default is 'propagate'.\n",
       "\n",
       "\n",
       "Returns\n",
       "-------\n",
       "statistic : float or array\n",
       "    The calculated t-statistic.\n",
       "pvalue : float or array\n",
       "    The two-tailed p-value.\n",
       "\n",
       "Notes\n",
       "-----\n",
       "We can use this test, if we observe two independent samples from\n",
       "the same or different population, e.g. exam scores of boys and\n",
       "girls or of two ethnic groups. The test measures whether the\n",
       "average (expected) value differs significantly across samples. If\n",
       "we observe a large p-value, for example larger than 0.05 or 0.1,\n",
       "then we cannot reject the null hypothesis of identical average scores.\n",
       "If the p-value is smaller than the threshold, e.g. 1%, 5% or 10%,\n",
       "then we reject the null hypothesis of equal averages.\n",
       "\n",
       "References\n",
       "----------\n",
       ".. [1] https://en.wikipedia.org/wiki/T-test#Independent_two-sample_t-test\n",
       "\n",
       ".. [2] https://en.wikipedia.org/wiki/Welch%27s_t-test\n",
       "\n",
       "Examples\n",
       "--------\n",
       ">>> from scipy import stats\n",
       ">>> np.random.seed(12345678)\n",
       "\n",
       "Test with sample with identical means:\n",
       "\n",
       ">>> rvs1 = stats.norm.rvs(loc=5,scale=10,size=500)\n",
       ">>> rvs2 = stats.norm.rvs(loc=5,scale=10,size=500)\n",
       ">>> stats.ttest_ind(rvs1,rvs2)\n",
       "(0.26833823296239279, 0.78849443369564776)\n",
       ">>> stats.ttest_ind(rvs1,rvs2, equal_var = False)\n",
       "(0.26833823296239279, 0.78849452749500748)\n",
       "\n",
       "`ttest_ind` underestimates p for unequal variances:\n",
       "\n",
       ">>> rvs3 = stats.norm.rvs(loc=5, scale=20, size=500)\n",
       ">>> stats.ttest_ind(rvs1, rvs3)\n",
       "(-0.46580283298287162, 0.64145827413436174)\n",
       ">>> stats.ttest_ind(rvs1, rvs3, equal_var = False)\n",
       "(-0.46580283298287162, 0.64149646246569292)\n",
       "\n",
       "When n1 != n2, the equal variance t-statistic is no longer equal to the\n",
       "unequal variance t-statistic:\n",
       "\n",
       ">>> rvs4 = stats.norm.rvs(loc=5, scale=20, size=100)\n",
       ">>> stats.ttest_ind(rvs1, rvs4)\n",
       "(-0.99882539442782481, 0.3182832709103896)\n",
       ">>> stats.ttest_ind(rvs1, rvs4, equal_var = False)\n",
       "(-0.69712570584654099, 0.48716927725402048)\n",
       "\n",
       "T-test with different means, variance, and n:\n",
       "\n",
       ">>> rvs5 = stats.norm.rvs(loc=8, scale=20, size=100)\n",
       ">>> stats.ttest_ind(rvs1, rvs5)\n",
       "(-1.4679669854490653, 0.14263895620529152)\n",
       ">>> stats.ttest_ind(rvs1, rvs5, equal_var = False)\n",
       "(-0.94365973617132992, 0.34744170334794122)\n",
       "\u001b[0;31mFile:\u001b[0m      ~/anaconda3/lib/python3.7/site-packages/scipy/stats/stats.py\n",
       "\u001b[0;31mType:\u001b[0m      function\n"
      ]
     },
     "metadata": {},
     "output_type": "display_data"
    }
   ],
   "source": [
    "stats.ttest_ind?"
   ]
  },
  {
   "cell_type": "code",
   "execution_count": 32,
   "metadata": {},
   "outputs": [],
   "source": [
    "firsthalf = google[google['date'] <= '2015-05-31']\n",
    "secondhalf = google[google['date'] > '2015-05-31']"
   ]
  },
  {
   "cell_type": "code",
   "execution_count": 33,
   "metadata": {},
   "outputs": [
    {
     "data": {
      "text/plain": [
       "Ttest_indResult(statistic=-0.9870936878399965, pvalue=0.3245510761835184)"
      ]
     },
     "execution_count": 33,
     "metadata": {},
     "output_type": "execute_result"
    }
   ],
   "source": [
    "stats.ttest_ind(firsthalf['volume'], secondhalf['volume'])"
   ]
  },
  {
   "cell_type": "markdown",
   "metadata": {},
   "source": [
    "#### Using Zscores to identify outliers in our data"
   ]
  },
  {
   "cell_type": "code",
   "execution_count": 34,
   "metadata": {},
   "outputs": [
    {
     "data": {
      "text/plain": [
       "\u001b[0;31mSignature:\u001b[0m \u001b[0mstats\u001b[0m\u001b[0;34m.\u001b[0m\u001b[0mzscore\u001b[0m\u001b[0;34m(\u001b[0m\u001b[0ma\u001b[0m\u001b[0;34m,\u001b[0m \u001b[0maxis\u001b[0m\u001b[0;34m=\u001b[0m\u001b[0;36m0\u001b[0m\u001b[0;34m,\u001b[0m \u001b[0mddof\u001b[0m\u001b[0;34m=\u001b[0m\u001b[0;36m0\u001b[0m\u001b[0;34m)\u001b[0m\u001b[0;34m\u001b[0m\u001b[0;34m\u001b[0m\u001b[0m\n",
       "\u001b[0;31mDocstring:\u001b[0m\n",
       "Calculate the z score of each value in the sample, relative to the\n",
       "sample mean and standard deviation.\n",
       "\n",
       "Parameters\n",
       "----------\n",
       "a : array_like\n",
       "    An array like object containing the sample data.\n",
       "axis : int or None, optional\n",
       "    Axis along which to operate. Default is 0. If None, compute over\n",
       "    the whole array `a`.\n",
       "ddof : int, optional\n",
       "    Degrees of freedom correction in the calculation of the\n",
       "    standard deviation. Default is 0.\n",
       "\n",
       "Returns\n",
       "-------\n",
       "zscore : array_like\n",
       "    The z-scores, standardized by mean and standard deviation of\n",
       "    input array `a`.\n",
       "\n",
       "Notes\n",
       "-----\n",
       "This function preserves ndarray subclasses, and works also with\n",
       "matrices and masked arrays (it uses `asanyarray` instead of\n",
       "`asarray` for parameters).\n",
       "\n",
       "Examples\n",
       "--------\n",
       ">>> a = np.array([ 0.7972,  0.0767,  0.4383,  0.7866,  0.8091,\n",
       "...                0.1954,  0.6307,  0.6599,  0.1065,  0.0508])\n",
       ">>> from scipy import stats\n",
       ">>> stats.zscore(a)\n",
       "array([ 1.1273, -1.247 , -0.0552,  1.0923,  1.1664, -0.8559,  0.5786,\n",
       "        0.6748, -1.1488, -1.3324])\n",
       "\n",
       "Computing along a specified axis, using n-1 degrees of freedom\n",
       "(``ddof=1``) to calculate the standard deviation:\n",
       "\n",
       ">>> b = np.array([[ 0.3148,  0.0478,  0.6243,  0.4608],\n",
       "...               [ 0.7149,  0.0775,  0.6072,  0.9656],\n",
       "...               [ 0.6341,  0.1403,  0.9759,  0.4064],\n",
       "...               [ 0.5918,  0.6948,  0.904 ,  0.3721],\n",
       "...               [ 0.0921,  0.2481,  0.1188,  0.1366]])\n",
       ">>> stats.zscore(b, axis=1, ddof=1)\n",
       "array([[-0.19264823, -1.28415119,  1.07259584,  0.40420358],\n",
       "       [ 0.33048416, -1.37380874,  0.04251374,  1.00081084],\n",
       "       [ 0.26796377, -1.12598418,  1.23283094, -0.37481053],\n",
       "       [-0.22095197,  0.24468594,  1.19042819, -1.21416216],\n",
       "       [-0.82780366,  1.4457416 , -0.43867764, -0.1792603 ]])\n",
       "\u001b[0;31mFile:\u001b[0m      ~/anaconda3/lib/python3.7/site-packages/scipy/stats/stats.py\n",
       "\u001b[0;31mType:\u001b[0m      function\n"
      ]
     },
     "metadata": {},
     "output_type": "display_data"
    }
   ],
   "source": [
    "?stats.zscore"
   ]
  },
  {
   "cell_type": "code",
   "execution_count": 35,
   "metadata": {},
   "outputs": [
    {
     "data": {
      "text/plain": [
       "array([False, False, False, ..., False, False, False])"
      ]
     },
     "execution_count": 35,
     "metadata": {},
     "output_type": "execute_result"
    }
   ],
   "source": [
    "stats.zscore(df['price'],axis=0) > 2.576"
   ]
  },
  {
   "cell_type": "code",
   "execution_count": 36,
   "metadata": {},
   "outputs": [
    {
     "data": {
      "text/plain": [
       "array([False, False, False, ..., False, False, False])"
      ]
     },
     "execution_count": 36,
     "metadata": {},
     "output_type": "execute_result"
    }
   ],
   "source": [
    "stats.zscore(df['price'],axis=0) < -2.576"
   ]
  },
  {
   "cell_type": "code",
   "execution_count": 37,
   "metadata": {},
   "outputs": [
    {
     "data": {
      "text/plain": [
       "514"
      ]
     },
     "execution_count": 37,
     "metadata": {},
     "output_type": "execute_result"
    }
   ],
   "source": [
    "outliers_upper_limit=df[stats.zscore(df['price'],axis=0) > 2.576]\n",
    "len(outliers_upper_limit)"
   ]
  },
  {
   "cell_type": "code",
   "execution_count": 38,
   "metadata": {},
   "outputs": [
    {
     "data": {
      "text/plain": [
       "0"
      ]
     },
     "execution_count": 38,
     "metadata": {},
     "output_type": "execute_result"
    }
   ],
   "source": [
    "outliers_lower_limit=df[stats.zscore(df['price'],axis=0) < -2.576]\n",
    "len(outliers_lower_limit)"
   ]
  },
  {
   "cell_type": "code",
   "execution_count": 39,
   "metadata": {},
   "outputs": [],
   "source": [
    "outliers = outliers_upper_limit.append(outliers_lower_limit)"
   ]
  },
  {
   "cell_type": "code",
   "execution_count": 40,
   "metadata": {},
   "outputs": [
    {
     "data": {
      "text/plain": [
       "Text(0.5, 0, 'Price in $')"
      ]
     },
     "execution_count": 40,
     "metadata": {},
     "output_type": "execute_result"
    }
   ],
   "source": [
    "import matplotlib.pyplot as plt\n",
    "plt.hist(outliers['price'])\n",
    "plt.title('Price Outliers')\n",
    "plt.ylabel('Number of Records')\n",
    "plt.xlabel('Price in $')"
   ]
  },
  {
   "cell_type": "markdown",
   "metadata": {},
   "source": [
    "## Visual Exploratory Data Analysis (EDA)"
   ]
  },
  {
   "cell_type": "markdown",
   "metadata": {},
   "source": [
    "#### Visual Exploratory Analysis is a great way to spot outliers, understand variable distributions, and identify patters in the data"
   ]
  },
  {
   "cell_type": "code",
   "execution_count": 41,
   "metadata": {},
   "outputs": [],
   "source": [
    "# importing the matplotlib.pyplot module for data visualization\n",
    "import matplotlib.pyplot as plt"
   ]
  },
  {
   "cell_type": "markdown",
   "metadata": {},
   "source": [
    "### Histograms\n",
    "#### Important to get an understanding of the distribution of a Series"
   ]
  },
  {
   "cell_type": "code",
   "execution_count": 42,
   "metadata": {},
   "outputs": [
    {
     "data": {
      "text/plain": [
       "Text(0.5, 1.0, 'Histogram Plot')"
      ]
     },
     "execution_count": 42,
     "metadata": {},
     "output_type": "execute_result"
    },
    {
     "data": {
      "image/png": "[encoded data removed]",
      "text/plain": [
       "<Figure size 432x288 with 1 Axes>"
      ]
     },
     "metadata": {
      "needs_background": "light"
     },
     "output_type": "display_data"
    }
   ],
   "source": [
    "plt.hist(df['yr_built'],bins=10)\n",
    "plt.xlabel('yr_built')\n",
    "plt.ylabel('Number of Records')\n",
    "plt.title('Histogram Plot')"
   ]
  },
  {
   "cell_type": "code",
   "execution_count": 43,
   "metadata": {},
   "outputs": [
    {
     "data": {
      "text/plain": [
       "Text(0.5, 1.0, 'Histogram Plot')"
      ]
     },
     "execution_count": 43,
     "metadata": {},
     "output_type": "execute_result"
    },
    {
     "data": {
      "image/png": "[encoded data removed]",
      "text/plain": [
       "<Figure size 432x288 with 1 Axes>"
      ]
     },
     "metadata": {
      "needs_background": "light"
     },
     "output_type": "display_data"
    }
   ],
   "source": [
    "plt.hist(df['yr_built'],bins=10, cumulative=True,label=True)\n",
    "plt.xlabel('yr_built')\n",
    "plt.ylabel('Cumulative Distribution')\n",
    "plt.title('Histogram Plot')"
   ]
  },
  {
   "cell_type": "markdown",
   "metadata": {},
   "source": [
    "### Scatter Plots\n",
    "#### Important to get an understanding the relationship between two variables and spot potentially bad data and spot outliers"
   ]
  },
  {
   "cell_type": "code",
   "execution_count": 44,
   "metadata": {},
   "outputs": [
    {
     "data": {
      "text/plain": [
       "Text(0.5, 1.0, 'Scatter Plot')"
      ]
     },
     "execution_count": 44,
     "metadata": {},
     "output_type": "execute_result"
    },
    {
     "data": {
      "image/png": "[encoded data removed]",
      "text/plain": [
       "<Figure size 432x288 with 1 Axes>"
      ]
     },
     "metadata": {
      "needs_background": "light"
     },
     "output_type": "display_data"
    }
   ],
   "source": [
    "plt.scatter(df['sqft_living'],df['sqft_lot'], color='purple')\n",
    "plt.xlabel('sqft_living')\n",
    "plt.ylabel('sqft_lot')\n",
    "plt.title('Scatter Plot')"
   ]
  },
  {
   "cell_type": "markdown",
   "metadata": {},
   "source": [
    "### Using plt.subplot() function\n",
    "####  This function allows you to determine the layout automatically. In subplot (nrows, ncols, the plot you want to set active)"
   ]
  },
  {
   "cell_type": "code",
   "execution_count": 45,
   "metadata": {},
   "outputs": [
    {
     "data": {
      "text/plain": [
       "Text(0.5, 1.0, 'Histogram Plot')"
      ]
     },
     "execution_count": 45,
     "metadata": {},
     "output_type": "execute_result"
    },
    {
     "data": {
      "image/png": "[encoded data removed]",
      "text/plain": [
       "<Figure size 432x288 with 2 Axes>"
      ]
     },
     "metadata": {
      "needs_background": "light"
     },
     "output_type": "display_data"
    }
   ],
   "source": [
    "plt.subplot(1,2,1)\n",
    "plt.scatter(df['sqft_living'],df['sqft_lot'], color='purple')\n",
    "plt.xlabel('sqft_living')\n",
    "plt.ylabel('sqft_lot')\n",
    "plt.title('Scatter Plot')\n",
    "plt.subplot(1,2,2)\n",
    "plt.hist(df['yr_built'],bins=10, cumulative=True,label=True)\n",
    "plt.xlabel('yr_built')\n",
    "plt.ylabel('Cumulative Distribution')\n",
    "plt.title('Histogram Plot')"
   ]
  },
  {
   "cell_type": "markdown",
   "metadata": {},
   "source": [
    "### Visualizing Bivariate and Univariate Distributions\n",
    "#### Seaborn is a library for statistical visualization and it works best with Pandas"
   ]
  },
  {
   "cell_type": "code",
   "execution_count": 46,
   "metadata": {},
   "outputs": [],
   "source": [
    "#importing seaborn\n",
    "import seaborn as sb"
   ]
  },
  {
   "cell_type": "code",
   "execution_count": 47,
   "metadata": {},
   "outputs": [
    {
     "data": {
      "text/plain": [
       "<matplotlib.axes._subplots.AxesSubplot at 0x1a22ca24d0>"
      ]
     },
     "execution_count": 47,
     "metadata": {},
     "output_type": "execute_result"
    },
    {
     "data": {
      "image/png": "[encoded data removed]",
      "text/plain": [
       "<Figure size 432x288 with 1 Axes>"
      ]
     },
     "metadata": {
      "needs_background": "light"
     },
     "output_type": "display_data"
    }
   ],
   "source": [
    "sb.regplot(x='sqft_living', y='price', data=df, scatter=True, color='blue')"
   ]
  },
  {
   "cell_type": "markdown",
   "metadata": {},
   "source": [
    "#### Strip Plots allow you to plot all the individual records of price grouped by the number of bedrooms"
   ]
  },
  {
   "cell_type": "code",
   "execution_count": 48,
   "metadata": {},
   "outputs": [
    {
     "data": {
      "text/plain": [
       "<matplotlib.axes._subplots.AxesSubplot at 0x1a22d5f5d0>"
      ]
     },
     "execution_count": 48,
     "metadata": {},
     "output_type": "execute_result"
    },
    {
     "data": {
      "image/png": "[encoded data removed]",
      "text/plain": [
       "<Figure size 432x288 with 1 Axes>"
      ]
     },
     "metadata": {
      "needs_background": "light"
     },
     "output_type": "display_data"
    }
   ],
   "source": [
    "sb.stripplot(x='bedrooms', y='price', data=df)"
   ]
  },
  {
   "cell_type": "markdown",
   "metadata": {},
   "source": [
    "#### The challenge with the striplot above is that all the values are centered around each other and on top of each other. For that reason, striplot is useful to see outliers but not the distribution of individual groups. \n",
    "#### A violinplot helps you get over that challenge as shown below"
   ]
  },
  {
   "cell_type": "code",
   "execution_count": 49,
   "metadata": {},
   "outputs": [
    {
     "data": {
      "text/plain": [
       "<matplotlib.axes._subplots.AxesSubplot at 0x1a23187c10>"
      ]
     },
     "execution_count": 49,
     "metadata": {},
     "output_type": "execute_result"
    },
    {
     "data": {
      "image/png": "[encoded data removed]",
      "text/plain": [
       "<Figure size 432x288 with 1 Axes>"
      ]
     },
     "metadata": {
      "needs_background": "light"
     },
     "output_type": "display_data"
    }
   ],
   "source": [
    "sb.violinplot(x='bedrooms', y='price', data=df)"
   ]
  },
  {
   "cell_type": "markdown",
   "metadata": {},
   "source": [
    "#### A joint plot is a powerful visualization that allows you to visualize the relationship between two variables, and even get the correlation coefficient of the relationship by importing the pearsonr function from the stats module in the scypy library"
   ]
  },
  {
   "cell_type": "code",
   "execution_count": 50,
   "metadata": {},
   "outputs": [
    {
     "name": "stderr",
     "output_type": "stream",
     "text": [
      "/Users/josezenteno/anaconda3/lib/python3.7/site-packages/seaborn/axisgrid.py:1847: UserWarning: JointGrid annotation is deprecated and will be removed in a future release.\n",
      "  warnings.warn(UserWarning(msg))\n"
     ]
    },
    {
     "data": {
      "text/plain": [
       "<seaborn.axisgrid.JointGrid at 0x1a2267a910>"
      ]
     },
     "execution_count": 50,
     "metadata": {},
     "output_type": "execute_result"
    },
    {
     "data": {
      "image/png": "[encoded data removed]",
      "text/plain": [
       "<Figure size 432x432 with 3 Axes>"
      ]
     },
     "metadata": {
      "needs_background": "light"
     },
     "output_type": "display_data"
    }
   ],
   "source": [
    "from scipy.stats import pearsonr\n",
    "sb.jointplot(x='sqft_living', y='price', data=df, stat_func=pearsonr, kind='reg')"
   ]
  },
  {
   "cell_type": "markdown",
   "metadata": {},
   "source": [
    "#### A heatmap provides a good option to analyze the correlation matrix across multiple variables in your DataFrame"
   ]
  },
  {
   "cell_type": "code",
   "execution_count": 51,
   "metadata": {},
   "outputs": [
    {
     "data": {
      "text/plain": [
       "<matplotlib.axes._subplots.AxesSubplot at 0x1a237bb990>"
      ]
     },
     "execution_count": 51,
     "metadata": {},
     "output_type": "execute_result"
    },
    {
     "data": {
      "image/png": "[encoded data removed]",
      "text/plain": [
       "<Figure size 432x288 with 2 Axes>"
      ]
     },
     "metadata": {
      "needs_background": "light"
     },
     "output_type": "display_data"
    }
   ],
   "source": [
    "sb.heatmap(df[['price','sqft_lot','sqft_above','bedrooms']].corr(),cmap= 'coolwarm',annot = True,linewidths=3, linecolor='black')"
   ]
  },
  {
   "cell_type": "markdown",
   "metadata": {},
   "source": [
    "## Visualizing Time Series Data"
   ]
  },
  {
   "cell_type": "markdown",
   "metadata": {},
   "source": [
    "#### If you want to visualize a time-series, you can use the plt.plot function. It would help if you have the date of your dataframe containing time-series data as the index."
   ]
  },
  {
   "cell_type": "code",
   "execution_count": 52,
   "metadata": {},
   "outputs": [
    {
     "name": "stderr",
     "output_type": "stream",
     "text": [
      "/Users/josezenteno/anaconda3/lib/python3.7/site-packages/pandas/plotting/_matplotlib/converter.py:103: FutureWarning: Using an implicitly registered datetime converter for a matplotlib plotting method. The converter was registered by pandas on import. Future versions of pandas will require you to explicitly register matplotlib converters.\n",
      "\n",
      "To register the converters:\n",
      "\t>>> from pandas.plotting import register_matplotlib_converters\n",
      "\t>>> register_matplotlib_converters()\n",
      "  warnings.warn(msg, FutureWarning)\n"
     ]
    },
    {
     "data": {
      "text/plain": [
       "Text(0, 0.5, 'High Price')"
      ]
     },
     "execution_count": 52,
     "metadata": {},
     "output_type": "execute_result"
    },
    {
     "data": {
      "image/png": "[encoded data removed]",
      "text/plain": [
       "<Figure size 432x288 with 1 Axes>"
      ]
     },
     "metadata": {
      "needs_background": "light"
     },
     "output_type": "display_data"
    }
   ],
   "source": [
    "from pandas.plotting import register_matplotlib_converters\n",
    "google = prices15[prices15['symbol']=='GOOGL']\n",
    "plt.plot(google['high'])\n",
    "plt.title('Price in 2015 by Google')\n",
    "plt.ylabel('High Price')"
   ]
  },
  {
   "cell_type": "markdown",
   "metadata": {},
   "source": [
    "# Supervised Learning with Scikit-Learn"
   ]
  },
  {
   "cell_type": "markdown",
   "metadata": {},
   "source": [
    "## Classifiers and Regressors"
   ]
  },
  {
   "cell_type": "markdown",
   "metadata": {},
   "source": [
    "#### Two of the most common classes of machine learning models are supervised and unsupervised ML models. The key difference is that with supervised models, we have labels which means that we have the correct answers to whatever it is that we want to learn to predict. In unsupervised learning, the data does not have labels."
   ]
  },
  {
   "cell_type": "markdown",
   "metadata": {},
   "source": [
    "#### Scikit-learn uses numpy arrays as a data format to train models. Both, the features and label have to be provided to the regressor or classifier algorithm as numpy arrays"
   ]
  },
  {
   "cell_type": "markdown",
   "metadata": {},
   "source": [
    "#### Importing numpy and KNeighborsClassifier from sklearn.neighbors"
   ]
  },
  {
   "cell_type": "code",
   "execution_count": 53,
   "metadata": {},
   "outputs": [],
   "source": [
    "import numpy as np\n",
    "from sklearn.neighbors import KNeighborsClassifier "
   ]
  },
  {
   "cell_type": "code",
   "execution_count": 54,
   "metadata": {},
   "outputs": [
    {
     "data": {
      "text/html": [
       "<div>\n",
       "<style scoped>\n",
       "    .dataframe tbody tr th:only-of-type {\n",
       "        vertical-align: middle;\n",
       "    }\n",
       "\n",
       "    .dataframe tbody tr th {\n",
       "        vertical-align: top;\n",
       "    }\n",
       "\n",
       "    .dataframe thead th {\n",
       "        text-align: right;\n",
       "    }\n",
       "</style>\n",
       "<table border=\"1\" class=\"dataframe\">\n",
       "  <thead>\n",
       "    <tr style=\"text-align: right;\">\n",
       "      <th></th>\n",
       "      <th>date</th>\n",
       "      <th>price</th>\n",
       "      <th>bedrooms</th>\n",
       "      <th>bathrooms</th>\n",
       "      <th>sqft_living</th>\n",
       "      <th>sqft_lot</th>\n",
       "      <th>floors</th>\n",
       "      <th>waterfront</th>\n",
       "      <th>view</th>\n",
       "      <th>condition</th>\n",
       "      <th>...</th>\n",
       "      <th>sqft_basement</th>\n",
       "      <th>yr_built</th>\n",
       "      <th>yr_renovated</th>\n",
       "      <th>zipcode</th>\n",
       "      <th>sqft_living15</th>\n",
       "      <th>sqft_lot15</th>\n",
       "      <th>id</th>\n",
       "      <th>meters_living</th>\n",
       "      <th>meters_lot</th>\n",
       "      <th>meters_basement</th>\n",
       "    </tr>\n",
       "    <tr>\n",
       "      <th>id</th>\n",
       "      <th></th>\n",
       "      <th></th>\n",
       "      <th></th>\n",
       "      <th></th>\n",
       "      <th></th>\n",
       "      <th></th>\n",
       "      <th></th>\n",
       "      <th></th>\n",
       "      <th></th>\n",
       "      <th></th>\n",
       "      <th></th>\n",
       "      <th></th>\n",
       "      <th></th>\n",
       "      <th></th>\n",
       "      <th></th>\n",
       "      <th></th>\n",
       "      <th></th>\n",
       "      <th></th>\n",
       "      <th></th>\n",
       "      <th></th>\n",
       "      <th></th>\n",
       "    </tr>\n",
       "  </thead>\n",
       "  <tbody>\n",
       "    <tr>\n",
       "      <td>7129300520</td>\n",
       "      <td>2014-10-13</td>\n",
       "      <td>221900.0</td>\n",
       "      <td>3</td>\n",
       "      <td>1.00</td>\n",
       "      <td>1180</td>\n",
       "      <td>5650</td>\n",
       "      <td>1.0</td>\n",
       "      <td>0</td>\n",
       "      <td>0</td>\n",
       "      <td>3</td>\n",
       "      <td>...</td>\n",
       "      <td>0</td>\n",
       "      <td>1955</td>\n",
       "      <td>0</td>\n",
       "      <td>98178</td>\n",
       "      <td>1340</td>\n",
       "      <td>5650</td>\n",
       "      <td>7129300520</td>\n",
       "      <td>359.664</td>\n",
       "      <td>1722.1200</td>\n",
       "      <td>0.00</td>\n",
       "    </tr>\n",
       "    <tr>\n",
       "      <td>6414100192</td>\n",
       "      <td>2014-12-09</td>\n",
       "      <td>538000.0</td>\n",
       "      <td>3</td>\n",
       "      <td>2.25</td>\n",
       "      <td>2570</td>\n",
       "      <td>7242</td>\n",
       "      <td>2.0</td>\n",
       "      <td>0</td>\n",
       "      <td>0</td>\n",
       "      <td>3</td>\n",
       "      <td>...</td>\n",
       "      <td>400</td>\n",
       "      <td>1951</td>\n",
       "      <td>1991</td>\n",
       "      <td>98125</td>\n",
       "      <td>1690</td>\n",
       "      <td>7639</td>\n",
       "      <td>6414100192</td>\n",
       "      <td>783.336</td>\n",
       "      <td>2207.3616</td>\n",
       "      <td>121.92</td>\n",
       "    </tr>\n",
       "  </tbody>\n",
       "</table>\n",
       "<p>2 rows × 22 columns</p>\n",
       "</div>"
      ],
      "text/plain": [
       "                 date     price  bedrooms  bathrooms  sqft_living  sqft_lot  \\\n",
       "id                                                                            \n",
       "7129300520 2014-10-13  221900.0         3       1.00         1180      5650   \n",
       "6414100192 2014-12-09  538000.0         3       2.25         2570      7242   \n",
       "\n",
       "            floors  waterfront  view  condition  ...  sqft_basement  yr_built  \\\n",
       "id                                               ...                            \n",
       "7129300520     1.0           0     0          3  ...              0      1955   \n",
       "6414100192     2.0           0     0          3  ...            400      1951   \n",
       "\n",
       "            yr_renovated  zipcode  sqft_living15 sqft_lot15          id  \\\n",
       "id                                                                        \n",
       "7129300520             0    98178           1340       5650  7129300520   \n",
       "6414100192          1991    98125           1690       7639  6414100192   \n",
       "\n",
       "            meters_living meters_lot  meters_basement  \n",
       "id                                                     \n",
       "7129300520        359.664  1722.1200             0.00  \n",
       "6414100192        783.336  2207.3616           121.92  \n",
       "\n",
       "[2 rows x 22 columns]"
      ]
     },
     "execution_count": 54,
     "metadata": {},
     "output_type": "execute_result"
    }
   ],
   "source": [
    "df.head(2)"
   ]
  },
  {
   "cell_type": "code",
   "execution_count": 55,
   "metadata": {},
   "outputs": [
    {
     "data": {
      "text/plain": [
       "Index(['date', 'price', 'bedrooms', 'bathrooms', 'sqft_living', 'sqft_lot',\n",
       "       'floors', 'waterfront', 'view', 'condition', 'grade', 'sqft_above',\n",
       "       'sqft_basement', 'yr_built', 'yr_renovated', 'zipcode', 'sqft_living15',\n",
       "       'sqft_lot15', 'id', 'meters_living', 'meters_lot', 'meters_basement'],\n",
       "      dtype='object')"
      ]
     },
     "execution_count": 55,
     "metadata": {},
     "output_type": "execute_result"
    }
   ],
   "source": [
    "df.columns"
   ]
  },
  {
   "cell_type": "code",
   "execution_count": 56,
   "metadata": {},
   "outputs": [],
   "source": [
    "# Create arrays for the features and the response variable\n",
    "y = df['waterfront'].values\n",
    "X = df[['bedrooms','bathrooms','sqft_living','floors','sqft_basement']].values"
   ]
  },
  {
   "cell_type": "code",
   "execution_count": 57,
   "metadata": {},
   "outputs": [
    {
     "name": "stdout",
     "output_type": "stream",
     "text": [
      "[0 0 0 0 0 0 0 0 0 0 0 0 0 0 0 0 0 0 0 0 0 0 0 0 0 0 0 0 0 0 0 0 0 0 0 0 0\n",
      " 0 0 0 0 0 0 0 0 0 0 0 1 0]\n"
     ]
    }
   ],
   "source": [
    "# Numpy arrays are essentially lists, which is why it was important to learn those structures in the first few weeks of class\n",
    "print(y[:50])"
   ]
  },
  {
   "cell_type": "code",
   "execution_count": 58,
   "metadata": {},
   "outputs": [
    {
     "name": "stdout",
     "output_type": "stream",
     "text": [
      "[[3.00e+00 1.00e+00 1.18e+03 1.00e+00 0.00e+00]\n",
      " [3.00e+00 2.25e+00 2.57e+03 2.00e+00 4.00e+02]\n",
      " [2.00e+00 1.00e+00 7.70e+02 1.00e+00 0.00e+00]\n",
      " [4.00e+00 3.00e+00 1.96e+03 1.00e+00 9.10e+02]\n",
      " [3.00e+00 2.00e+00 1.68e+03 1.00e+00 0.00e+00]]\n"
     ]
    }
   ],
   "source": [
    "# Numpy arrays are essentially lists, which is why it was important to learn those structures in the first few weeks of class\n",
    "print(X[:5])"
   ]
  },
  {
   "cell_type": "code",
   "execution_count": 59,
   "metadata": {},
   "outputs": [],
   "source": [
    "### KNeighborsClassifier"
   ]
  },
  {
   "cell_type": "code",
   "execution_count": 60,
   "metadata": {},
   "outputs": [],
   "source": [
    "# Create a k-NN classifier with 2 neighbors: knn\n",
    "knn = KNeighborsClassifier(n_neighbors=2)\n",
    "\n",
    "# Fit the classifier to the data\n",
    "knn.fit(X,y)\n",
    "\n",
    "# Predict the labels for the training data X\n",
    "y_pred = knn.predict(X)"
   ]
  },
  {
   "cell_type": "code",
   "execution_count": 61,
   "metadata": {},
   "outputs": [
    {
     "name": "stdout",
     "output_type": "stream",
     "text": [
      "Number of houses with an actual waterfront is:  0.7260500925835689 %\n",
      "Number of houses predicted to have a waterfront is:  0.014618458239937628 %\n"
     ]
    }
   ],
   "source": [
    "print('Number of houses with an actual waterfront is: ' , np.mean(y)*100, '%')\n",
    "print('Number of houses predicted to have a waterfront is: ' , np.mean(y_pred)*100, '%')"
   ]
  },
  {
   "cell_type": "markdown",
   "metadata": {},
   "source": [
    "#### How do we measure the performance of the model? What metric do we use? What we really care about is how well the model is performing with out of training samples. In other words, we need to make sure the predictions are accurate with out of sample data. For that reason, it is crucial to split the dataset into two, a train and a test set. We then fit the train data to the classifier and make predictions on the test set"
   ]
  },
  {
   "cell_type": "markdown",
   "metadata": {},
   "source": [
    "#### Scikit-learn makes the creation of a train and test split easy with the train_test_split function in the model_selection module. By default, train_test_split function splits the data 75/25 which is a good rule of thumb but this can easily be customized if needed"
   ]
  },
  {
   "cell_type": "markdown",
   "metadata": {},
   "source": [
    "### KNeighborsClassifier with train_test_split function"
   ]
  },
  {
   "cell_type": "code",
   "execution_count": 62,
   "metadata": {},
   "outputs": [
    {
     "name": "stdout",
     "output_type": "stream",
     "text": [
      "accuracy\n",
      "Accuracy: 0.99\n",
      "-----------------------------------\n",
      "Confusion Matrix\n",
      "[[6109    3]\n",
      " [  45    0]]\n",
      "upper left: true positive, lower left: true negative, upper right: false negative, bottom right: true negative\n",
      "------------------------------------\n",
      "classification report\n",
      "------------------------------------\n",
      "              precision    recall  f1-score   support\n",
      "\n",
      "           0       0.99      1.00      1.00      6112\n",
      "           1       0.00      0.00      0.00        45\n",
      "\n",
      "    accuracy                           0.99      6157\n",
      "   macro avg       0.50      0.50      0.50      6157\n",
      "weighted avg       0.99      0.99      0.99      6157\n",
      "\n"
     ]
    }
   ],
   "source": [
    "# Import necessary modules and functions\n",
    "from sklearn.neighbors import KNeighborsClassifier\n",
    "from sklearn.model_selection import train_test_split\n",
    "from sklearn.metrics import confusion_matrix, classification_report\n",
    "\n",
    "# Create feature and target arrays\n",
    "y = df['waterfront'].values\n",
    "X = df[['bedrooms','bathrooms','sqft_living','floors','sqft_basement']].values\n",
    "\n",
    "# Split into training and test set\n",
    "# This stratify parameter makes a split so that the proportion of values in the sample produced will be the same as \n",
    "# the proportion of values provided to parameter stratify.For example, if variable y is a binary categorical variable \n",
    "# with values 0 and 1 and there are 25% of zeros and 75% of ones, stratify=y will make sure that your random split \n",
    "# has 25% of 0's and 75% of 1's.\n",
    "X_train, X_test, y_train, y_test = train_test_split(X, y, test_size = 0.3, random_state=42, stratify=y)\n",
    "\n",
    "# Create a k-NN classifier with 3 neighbors: knn\n",
    "knn = KNeighborsClassifier(n_neighbors=3)\n",
    "\n",
    "# Fit the classifier to the training data\n",
    "knn.fit(X_train,y_train)\n",
    "\n",
    "# Predict using the classifier\n",
    "y_pred = knn.predict(X_test)\n",
    "\n",
    "# Print the accuracy\n",
    "print('accuracy')\n",
    "print(\"Accuracy: {:.2f}\".format(knn.score(X_test, y_test)))\n",
    "print('-----------------------------------')\n",
    "#print the confusion matrix\n",
    "print('Confusion Matrix')\n",
    "print(confusion_matrix(y_test, y_pred, labels=None, sample_weight=None, normalize=None))\n",
    "print('upper left: true positive, lower left: true negative, upper right: false negative, bottom right: true negative')\n",
    "print('------------------------------------')\n",
    "print('classification report')\n",
    "print('------------------------------------')\n",
    "print(classification_report(y_test, y_pred))"
   ]
  },
  {
   "cell_type": "markdown",
   "metadata": {},
   "source": [
    "### Switching the classifier from a k-nearest neighbors algorithm to a logistic regression is very simple since all I had to do was change the classifier\n",
    "### Logistic Regression Classifier"
   ]
  },
  {
   "cell_type": "code",
   "execution_count": 63,
   "metadata": {},
   "outputs": [
    {
     "name": "stdout",
     "output_type": "stream",
     "text": [
      "accuracy\n",
      "Accuracy: 0.99\n",
      "Confusion Matrix\n",
      "[[6112    0]\n",
      " [  45    0]]\n",
      "upper left: true positive, lower left: true negative, upper right: false negative, bottom right: true negative\n",
      "------------------------------------\n",
      "classification report\n",
      "              precision    recall  f1-score   support\n",
      "\n",
      "           0       0.99      1.00      1.00      6112\n",
      "           1       0.00      0.00      0.00        45\n",
      "\n",
      "    accuracy                           0.99      6157\n",
      "   macro avg       0.50      0.50      0.50      6157\n",
      "weighted avg       0.99      0.99      0.99      6157\n",
      "\n"
     ]
    },
    {
     "name": "stderr",
     "output_type": "stream",
     "text": [
      "/Users/josezenteno/anaconda3/lib/python3.7/site-packages/sklearn/metrics/_classification.py:1272: UndefinedMetricWarning: Precision and F-score are ill-defined and being set to 0.0 in labels with no predicted samples. Use `zero_division` parameter to control this behavior.\n",
      "  _warn_prf(average, modifier, msg_start, len(result))\n"
     ]
    }
   ],
   "source": [
    "# Import necessary modules and functions\n",
    "from sklearn.linear_model import LogisticRegression\n",
    "from sklearn.model_selection import train_test_split\n",
    "from sklearn.metrics import confusion_matrix, classification_report\n",
    "\n",
    "# Create feature and target arrays\n",
    "y = df['waterfront'].values\n",
    "X = df[['bedrooms','bathrooms','sqft_living','floors','sqft_basement']].values\n",
    "\n",
    "# Split into training and test set\n",
    "# This stratify parameter makes a split so that the proportion of values in the sample produced will be the same as \n",
    "# the proportion of values provided to parameter stratify.For example, if variable y is a binary categorical variable \n",
    "# with values 0 and 1 and there are 25% of zeros and 75% of ones, stratify=y will make sure that your random split \n",
    "# has 25% of 0's and 75% of 1's.\n",
    "X_train, X_test, y_train, y_test = train_test_split(X, y, test_size = 0.3, random_state=42, stratify=y)\n",
    "\n",
    "# Create a logistic classifier\n",
    "logistic_classifier = LogisticRegression()\n",
    "\n",
    "# Fit the classifier to the training data\n",
    "logistic_classifier.fit(X_train,y_train)\n",
    "\n",
    "# Predict using the classifier\n",
    "y_pred = logistic_classifier.predict(X_test)\n",
    "\n",
    "# Print the accuracy\n",
    "print('accuracy')\n",
    "print(\"Accuracy: {:.2f}\".format(logistic_classifier.score(X_test, y_test)))\n",
    "#print the confusion matrix\n",
    "print('Confusion Matrix')\n",
    "print(confusion_matrix(y_test, y_pred, labels=None, sample_weight=None, normalize=None))\n",
    "print('upper left: true positive, lower left: true negative, upper right: false negative, bottom right: true negative')\n",
    "print('------------------------------------')\n",
    "print('classification report')\n",
    "print(classification_report(y_test, y_pred))"
   ]
  },
  {
   "cell_type": "markdown",
   "metadata": {},
   "source": [
    "# Decision Tree Classifier"
   ]
  },
  {
   "cell_type": "code",
   "execution_count": 64,
   "metadata": {},
   "outputs": [
    {
     "name": "stdout",
     "output_type": "stream",
     "text": [
      "accuracy\n",
      "Accuracy: 0.99\n",
      "Confusion Matrix\n",
      "[[6069   43]\n",
      " [  45    0]]\n",
      "upper left: true positive, lower left: true negative, upper right: false negative, bottom right: true negative\n",
      "------------------------------------\n",
      "classification report\n",
      "              precision    recall  f1-score   support\n",
      "\n",
      "           0       0.99      0.99      0.99      6112\n",
      "           1       0.00      0.00      0.00        45\n",
      "\n",
      "    accuracy                           0.99      6157\n",
      "   macro avg       0.50      0.50      0.50      6157\n",
      "weighted avg       0.99      0.99      0.99      6157\n",
      "\n"
     ]
    }
   ],
   "source": [
    "# Import necessary modules and functions\n",
    "from sklearn.tree import DecisionTreeClassifier\n",
    "from sklearn.model_selection import train_test_split\n",
    "from sklearn.metrics import confusion_matrix, classification_report\n",
    "\n",
    "# Create feature and target arrays\n",
    "y = df['waterfront'].values\n",
    "X = df[['bedrooms','bathrooms','sqft_living','floors','sqft_basement']].values\n",
    "\n",
    "# Split into training and test set\n",
    "# This stratify parameter makes a split so that the proportion of values in the sample produced will be the same as \n",
    "# the proportion of values provided to parameter stratify.For example, if variable y is a binary categorical variable \n",
    "# with values 0 and 1 and there are 25% of zeros and 75% of ones, stratify=y will make sure that your random split \n",
    "# has 25% of 0's and 75% of 1's.\n",
    "X_train, X_test, y_train, y_test = train_test_split(X, y, test_size = 0.3, random_state=42, stratify=y)\n",
    "\n",
    "# Create a logistic classifier\n",
    "DecisionTree_classifier = DecisionTreeClassifier()\n",
    "\n",
    "# Fit the classifier to the training data\n",
    "DecisionTree_classifier.fit(X_train,y_train)\n",
    "\n",
    "# Predict using the classifier\n",
    "y_pred = DecisionTree_classifier.predict(X_test)\n",
    "\n",
    "# Print the accuracy\n",
    "print('accuracy')\n",
    "print(\"Accuracy: {:.2f}\".format(DecisionTree_classifier.score(X_test, y_test)))\n",
    "#print the confusion matrix\n",
    "print('Confusion Matrix')\n",
    "print(confusion_matrix(y_test, y_pred, labels=None, sample_weight=None, normalize=None))\n",
    "print('upper left: true positive, lower left: true negative, upper right: false negative, bottom right: true negative')\n",
    "print('------------------------------------')\n",
    "print('classification report')\n",
    "print(classification_report(y_test, y_pred))"
   ]
  },
  {
   "cell_type": "markdown",
   "metadata": {},
   "source": [
    "## Regressors"
   ]
  },
  {
   "cell_type": "markdown",
   "metadata": {},
   "source": [
    "### Linear Regression"
   ]
  },
  {
   "cell_type": "code",
   "execution_count": 65,
   "metadata": {},
   "outputs": [
    {
     "name": "stdout",
     "output_type": "stream",
     "text": [
      "R^2: 0.51\n",
      "Root Mean Squared Error: 247588.91\n"
     ]
    }
   ],
   "source": [
    "# Import necessary modules and functions\n",
    "from sklearn.linear_model import LinearRegression\n",
    "from sklearn.metrics import mean_squared_error\n",
    "from sklearn.model_selection import train_test_split\n",
    "\n",
    "# Create feature and target arrays\n",
    "y = df['price'].values\n",
    "X = df[['bedrooms','bathrooms','sqft_living','floors','sqft_basement']].values\n",
    "\n",
    "# Create training and test sets\n",
    "X_train, X_test, y_train, y_test = train_test_split(X, y, test_size = 0.20, random_state=42)\n",
    "\n",
    "# Create the regressor: reg_all\n",
    "reg_all = LinearRegression()\n",
    "\n",
    "# Fit the regressor to the training data\n",
    "reg_all.fit(X_train,y_train)\n",
    "\n",
    "# Predict on the test data: y_pred\n",
    "y_pred = reg_all.predict(X_test)\n",
    "\n",
    "# Compute and print R^2 and RMSE\n",
    "print(\"R^2: {:.2f}\".format(reg_all.score(X_test, y_test)))\n",
    "rmse = np.sqrt(mean_squared_error(y_test,y_pred))\n",
    "print(\"Root Mean Squared Error: {:.2f}\".format(rmse))"
   ]
  },
  {
   "cell_type": "markdown",
   "metadata": {},
   "source": [
    "### Regression Tree"
   ]
  },
  {
   "cell_type": "code",
   "execution_count": 66,
   "metadata": {},
   "outputs": [
    {
     "name": "stdout",
     "output_type": "stream",
     "text": [
      "R^2: 0.51\n",
      "Test set RMSE of Regressor Tree: 278608.71\n"
     ]
    }
   ],
   "source": [
    "# Import necessary modules and functions\n",
    "from sklearn.metrics import mean_squared_error as MSE\n",
    "import numpy as np\n",
    "\n",
    "# Import DecisionTreeRegressor from sklearn.tree\n",
    "from sklearn.tree import DecisionTreeRegressor\n",
    "\n",
    "# Instantiate dt\n",
    "dt = DecisionTreeRegressor(max_depth=8,\n",
    "             min_samples_leaf=0.13,\n",
    "            random_state=3)\n",
    "\n",
    "# Create feature and target arrays\n",
    "y = df['price'].values\n",
    "X = df[['bedrooms','bathrooms','sqft_living','floors','sqft_basement']].values\n",
    "\n",
    "# Create training and test sets\n",
    "X_train, X_test, y_train, y_test = train_test_split(X, y, test_size = 0.20, random_state=42)\n",
    "\n",
    "# Fit the regressor to the training data\n",
    "dt.fit(X_train,y_train)\n",
    "\n",
    "# Predict using the regressor\n",
    "y_pred = dt.predict(X_test)\n",
    "\n",
    "# Compute mse_dt\n",
    "mse_dt = MSE(y_test, y_pred)\n",
    "\n",
    "# Compute rmse_dt\n",
    "rmse_dt = np.sqrt(mse_dt)\n",
    "\n",
    "# Compute and print R^2 and RMSE\n",
    "print(\"R^2: {:.2f}\".format(reg_all.score(X_test, y_test)))\n",
    "print(\"Test set RMSE of Regressor Tree: {:.2f}\".format(rmse_dt))"
   ]
  },
  {
   "cell_type": "markdown",
   "metadata": {},
   "source": [
    "### Lasso Regression"
   ]
  },
  {
   "cell_type": "code",
   "execution_count": 67,
   "metadata": {},
   "outputs": [
    {
     "name": "stdout",
     "output_type": "stream",
     "text": [
      "R^2: 0.51\n",
      "Test set RMSE of Lasso Regressor: 247596.87\n"
     ]
    }
   ],
   "source": [
    "# Import necessary modules and functions\n",
    "from sklearn.metrics import mean_squared_error as MSE\n",
    "import numpy as np\n",
    "\n",
    "# Import lasso from sklearn.linear_model\n",
    "from sklearn.linear_model import Lasso\n",
    "\n",
    "# Instantiate lasso\n",
    "lasso = Lasso(alpha=0.6, normalize=True)\n",
    "\n",
    "# Create feature and target arrays\n",
    "y = df['price'].values\n",
    "X = df[['bedrooms','bathrooms','sqft_living','floors','sqft_basement']].values\n",
    "\n",
    "# Create training and test sets\n",
    "X_train, X_test, y_train, y_test = train_test_split(X, y, test_size = 0.20, random_state=42)\n",
    "\n",
    "# Fit the regressor to the training data\n",
    "lasso_fit=lasso.fit(X_train,y_train)\n",
    "\n",
    "\n",
    "# Predict using the regressor\n",
    "y_pred = lasso_fit.predict(X_test)\n",
    "\n",
    "# Compute mse_dt\n",
    "mse_dt = MSE(y_test, y_pred)\n",
    "\n",
    "# Compute rmse_dt\n",
    "rmse_dt = np.sqrt(mse_dt)\n",
    "\n",
    "# Compute and print R^2 and RMSE\n",
    "print(\"R^2: {:.2f}\".format(reg_all.score(X_test, y_test)))\n",
    "print(\"Test set RMSE of Lasso Regressor: {:.2f}\".format(rmse_dt))"
   ]
  },
  {
   "cell_type": "markdown",
   "metadata": {},
   "source": [
    "### Writing out your predictions to a CSV"
   ]
  },
  {
   "cell_type": "code",
   "execution_count": 68,
   "metadata": {},
   "outputs": [
    {
     "data": {
      "text/plain": [
       "numpy.ndarray"
      ]
     },
     "execution_count": 68,
     "metadata": {},
     "output_type": "execute_result"
    }
   ],
   "source": [
    "type(y_pred)"
   ]
  },
  {
   "cell_type": "code",
   "execution_count": 69,
   "metadata": {},
   "outputs": [
    {
     "name": "stdout",
     "output_type": "stream",
     "text": [
      "      predicted_price\n",
      "0        4.834710e+05\n",
      "1        2.257727e+05\n",
      "2        5.027455e+05\n",
      "3        4.013012e+05\n",
      "4        1.072965e+06\n",
      "...               ...\n",
      "4100     5.051875e+05\n",
      "4101     2.829141e+05\n",
      "4102     5.891962e+05\n",
      "4103     1.035937e+06\n",
      "4104     1.238568e+06\n",
      "\n",
      "[4105 rows x 1 columns]\n"
     ]
    }
   ],
   "source": [
    "# Format predictions in DataFrame: prediction_df\n",
    "prediction_df = pd.DataFrame(data=y_pred, index=None, columns=['predicted_price']) \n",
    "print(prediction_df)\n",
    "prediction_df.to_csv('/Users/josezenteno/Desktop/Intro_to_Python_Class/Class_Four/prediction_df.csv')"
   ]
  },
  {
   "cell_type": "markdown",
   "metadata": {},
   "source": [
    "### Introduction to Deep Learning in Python (Neural Networks)"
   ]
  },
  {
   "cell_type": "markdown",
   "metadata": {},
   "source": [
    "#### What is important when creating deep neural networks:1) lots of data 2) Having good generalization 3) Experimentation 4) Computational power\n",
    "\n",
    "##### First, you need to make sure you have lots of data. There is a lot of research taking place trying to reduce the data needs of deep learning but until then, we need to make sure we have a lot of it. This is due to the high capacity from the number of parameters that need to be trained in these massive models. Since the model is so complex, it really needs to internalize the data distribution well. Therefore, it needs a lot of signal. Remember, the entire point of machine learning is not to train a whole bunch of fancy models just because we want to train a model. The purpose is to train them so that they can make very accurate predictions. If you can't generalize a new data to predict from, then what good of a model is that? Therefore, once again, having enough data is important so that it doesn't overfit to a small dataset that had just seen a million times, instead of a gigantic dataset just seen much less. This also allows you to have a large enough validation and test sets to tune your model with. \n"
   ]
  },
  {
   "cell_type": "markdown",
   "metadata": {},
   "source": [
    "##### Experimentation: Lastly, machine learning is all about experimentation. There are so many different types of algorithms, hyperparameters and ways to create your machine learning datasets these days. There really is no way a priority to know the optimal choices from the start for almost all problems. By experimenting and keeping careful track what you've tried already and performance measured to compare models across, you not only will have a lot of fun but also will create some amazingly powerful tools."
   ]
  },
  {
   "cell_type": "code",
   "execution_count": 70,
   "metadata": {},
   "outputs": [
    {
     "name": "stdout",
     "output_type": "stream",
     "text": [
      "Collecting package metadata (current_repodata.json): done\n",
      "Solving environment: done\n",
      "\n",
      "# All requested packages already installed.\n",
      "\n"
     ]
    }
   ],
   "source": [
    "!conda install -c conda-forge keras --yes\n"
   ]
  },
  {
   "cell_type": "markdown",
   "metadata": {},
   "source": [
    "### What is conda? \n",
    "#### Software is constantly evolving, so data scientists need a way to update the software they are using without breaking things that already work. Conda is an open source, cross-platform tool for managing packages and working environments for many different programming languages. Conda allows you to manage your software so that you and your colleagues can reproduce your working environments reliably with minimum effort.\n",
    "#####  What are packages and why are they needed?\n",
    "#### Conda packages are files containing a bundle of resources: usually libraries and executables, but not always. In principle, Conda packages can include data, images, notebooks, or other assets. The command-line tool conda is used to install, remove and examine packages; other tools such as the GUI Anaconda Navigator also expose the same capabilities. "
   ]
  },
  {
   "cell_type": "code",
   "execution_count": 71,
   "metadata": {},
   "outputs": [
    {
     "name": "stderr",
     "output_type": "stream",
     "text": [
      "Using TensorFlow backend.\n",
      "/Users/josezenteno/anaconda3/lib/python3.7/site-packages/tensorflow/python/framework/dtypes.py:526: FutureWarning: Passing (type, 1) or '1type' as a synonym of type is deprecated; in a future version of numpy, it will be understood as (type, (1,)) / '(1,)type'.\n",
      "  _np_qint8 = np.dtype([(\"qint8\", np.int8, 1)])\n",
      "/Users/josezenteno/anaconda3/lib/python3.7/site-packages/tensorflow/python/framework/dtypes.py:527: FutureWarning: Passing (type, 1) or '1type' as a synonym of type is deprecated; in a future version of numpy, it will be understood as (type, (1,)) / '(1,)type'.\n",
      "  _np_quint8 = np.dtype([(\"quint8\", np.uint8, 1)])\n",
      "/Users/josezenteno/anaconda3/lib/python3.7/site-packages/tensorflow/python/framework/dtypes.py:528: FutureWarning: Passing (type, 1) or '1type' as a synonym of type is deprecated; in a future version of numpy, it will be understood as (type, (1,)) / '(1,)type'.\n",
      "  _np_qint16 = np.dtype([(\"qint16\", np.int16, 1)])\n",
      "/Users/josezenteno/anaconda3/lib/python3.7/site-packages/tensorflow/python/framework/dtypes.py:529: FutureWarning: Passing (type, 1) or '1type' as a synonym of type is deprecated; in a future version of numpy, it will be understood as (type, (1,)) / '(1,)type'.\n",
      "  _np_quint16 = np.dtype([(\"quint16\", np.uint16, 1)])\n",
      "/Users/josezenteno/anaconda3/lib/python3.7/site-packages/tensorflow/python/framework/dtypes.py:530: FutureWarning: Passing (type, 1) or '1type' as a synonym of type is deprecated; in a future version of numpy, it will be understood as (type, (1,)) / '(1,)type'.\n",
      "  _np_qint32 = np.dtype([(\"qint32\", np.int32, 1)])\n",
      "/Users/josezenteno/anaconda3/lib/python3.7/site-packages/tensorflow/python/framework/dtypes.py:535: FutureWarning: Passing (type, 1) or '1type' as a synonym of type is deprecated; in a future version of numpy, it will be understood as (type, (1,)) / '(1,)type'.\n",
      "  np_resource = np.dtype([(\"resource\", np.ubyte, 1)])\n"
     ]
    },
    {
     "name": "stdout",
     "output_type": "stream",
     "text": [
      "WARNING:tensorflow:From /Users/josezenteno/anaconda3/lib/python3.7/site-packages/tensorflow/python/ops/resource_variable_ops.py:435: colocate_with (from tensorflow.python.framework.ops) is deprecated and will be removed in a future version.\n",
      "Instructions for updating:\n",
      "Colocations handled automatically by placer.\n",
      "Loss function: mean_squared_error\n",
      "WARNING:tensorflow:From /Users/josezenteno/anaconda3/lib/python3.7/site-packages/tensorflow/python/ops/math_ops.py:3066: to_int32 (from tensorflow.python.ops.math_ops) is deprecated and will be removed in a future version.\n",
      "Instructions for updating:\n",
      "Use tf.cast instead.\n",
      "Epoch 1/1\n",
      "16417/16417 [==============================] - 1s 42us/step - loss: 311110907367.3309\n",
      "Test set RMSE of a Neural Network with two layers: 336370.44\n"
     ]
    }
   ],
   "source": [
    "# Import necessary modules\n",
    "import keras\n",
    "from keras.layers import Dense\n",
    "from keras.models import Sequential\n",
    "from sklearn.model_selection import train_test_split\n",
    "from sklearn.metrics import mean_squared_error as MSE\n",
    "\n",
    "\n",
    "# Create feature and target arrays\n",
    "y = df['price'].values\n",
    "X = df[['bedrooms','bathrooms','sqft_living','floors','sqft_basement']].values\n",
    "\n",
    "# Create training and test sets\n",
    "X_train, X_test, y_train, y_test = train_test_split(X, y, test_size = 0.20, random_state=42)\n",
    "\n",
    "# Save the number of columns in DataFrame: n_cols\n",
    "n_cols = X.shape[1]\n",
    "\n",
    "# Set up the model: model\n",
    "model = Sequential()\n",
    "\n",
    "# Add the first layer\n",
    "model.add(Dense(50, activation='relu', input_shape=(n_cols,)))\n",
    "\n",
    "# Add the second layer\n",
    "model.add(Dense(32,activation='relu'))\n",
    "\n",
    "# Add the output layer\n",
    "model.add(Dense(1))\n",
    "\n",
    "# Compile the model\n",
    "model.compile(optimizer='adam', loss='mean_squared_error')\n",
    "\n",
    "# Verify that model contains information from compiling\n",
    "print(\"Loss function: \" + model.loss)\n",
    "\n",
    "# Fit the model\n",
    "model.fit(X_train, y_train)\n",
    "\n",
    "# Calculate predictions: predictions\n",
    "y_pred = model.predict(X_test)\n",
    "\n",
    "# Compute mse_dt\n",
    "mse_dt = MSE(y_test, y_pred)\n",
    "\n",
    "# Compute rmse_dt\n",
    "rmse_dt = np.sqrt(mse_dt)\n",
    "\n",
    "print(\"Test set RMSE of a Neural Network with two layers: {:.2f}\".format(rmse_dt))"
   ]
  }
 ],
 "metadata": {
  "kernelspec": {
   "display_name": "Python 3",
   "language": "python",
   "name": "python3"
  },
  "language_info": {
   "codemirror_mode": {
    "name": "ipython",
    "version": 3
   },
   "file_extension": ".py",
   "mimetype": "text/x-python",
   "name": "python",
   "nbconvert_exporter": "python",
   "pygments_lexer": "ipython3",
   "version": "3.7.6"
  }
 },
 "nbformat": 4,
 "nbformat_minor": 4
}
